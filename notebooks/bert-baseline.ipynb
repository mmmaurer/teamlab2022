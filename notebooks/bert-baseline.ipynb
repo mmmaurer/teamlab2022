{
 "cells": [
  {
   "cell_type": "markdown",
   "metadata": {},
   "source": [
    "# Artist classification using BERT\n",
    "This notebook uses a transformer-based model BERT on the task of artist classification.\n",
    "\n",
    "The motivation behind using this model is to utilize its context understanding and trained knowledge to fine-tune lyrics of different artist.\n",
    "\n",
    "We'll first use the pretrained model ito transform the lyrics into BERT vector embeddings and run a kNN algorithm over all the vector embeddings. Then we'll be fine-tuning the model on artist classification."
   ]
  },
  {
   "cell_type": "code",
   "execution_count": 1,
   "metadata": {
    "vscode": {
     "languageId": "python"
    }
   },
   "outputs": [],
   "source": [
    "import os\n",
    "cache_folder = '/mount/studenten-temp1/users/knupleun/.cache/huggingface'\n",
    "os.environ['TRANSFORMERS_CACHE'] = cache_folder"
   ]
  },
  {
   "cell_type": "markdown",
   "metadata": {},
   "source": [
    "## Preparing the data"
   ]
  },
  {
   "cell_type": "code",
   "execution_count": 2,
   "metadata": {
    "vscode": {
     "languageId": "python"
    }
   },
   "outputs": [
    {
     "name": "stderr",
     "output_type": "stream",
     "text": [
      "Using custom data configuration default-326223662ac9146d\n",
      "Reusing dataset csv (/mount/studenten-temp1/users/knupi/.cache/huggingface/csv/default-326223662ac9146d/0.0.0/51cce309a08df9c4d82ffd9363bbe090bf173197fc01a71b034e8594995a1a58)\n"
     ]
    },
    {
     "data": {
      "application/vnd.jupyter.widget-view+json": {
       "model_id": "a31fbd2d87b4445fa0e3eae69bdd2c65",
       "version_major": 2,
       "version_minor": 0
      },
      "text/plain": [
       "  0%|          | 0/3 [00:00<?, ?it/s]"
      ]
     },
     "metadata": {},
     "output_type": "display_data"
    }
   ],
   "source": [
    "from datasets import load_dataset\n",
    "\n",
    "dataset_folder = '../data/'\n",
    "\n",
    "dataset = load_dataset('csv',\n",
    "                     data_files={\n",
    "                        'train': dataset_folder + 'songs_train.txt',\n",
    "                        'test': dataset_folder + 'songs_test.txt',\n",
    "                        'dev': dataset_folder + 'songs_dev.txt',\n",
    "                     },\n",
    "#                     split='train[:10%]',\n",
    "                     #split='train[50%:52%]',\n",
    "                     column_names=['artist', 'title', 'lyrics'],\n",
    "                     sep='\\t')"
   ]
  },
  {
   "cell_type": "markdown",
   "metadata": {},
   "source": [
    "Get all artists to have a class for label mapping"
   ]
  },
  {
   "cell_type": "code",
   "execution_count": 3,
   "metadata": {
    "vscode": {
     "languageId": "python"
    }
   },
   "outputs": [],
   "source": [
    "from datasets import ClassLabel, Dataset\n",
    "\n",
    "if len(dataset) == 3:\n",
    "    union_artists = set(dataset['train']['artist']) | set(dataset['test']['artist']) | set(dataset['dev']['artist'])\n",
    "else:\n",
    "    union_artists = set(dataset['artist'])\n",
    "\n",
    "artists = ClassLabel(names=list(union_artists))"
   ]
  },
  {
   "cell_type": "markdown",
   "metadata": {},
   "source": [
    "## Transform lyrics into BERT embeddings\n",
    "We're using the classic pre-trained BERT model, passing in the lyrics and getting out the final hidden states (or output vectors) of the model."
   ]
  },
  {
   "cell_type": "code",
   "execution_count": 4,
   "metadata": {
    "vscode": {
     "languageId": "python"
    }
   },
   "outputs": [
    {
     "name": "stderr",
     "output_type": "stream",
     "text": [
      "Some weights of the model checkpoint at bert-base-uncased were not used when initializing BertModel: ['cls.seq_relationship.weight', 'cls.predictions.bias', 'cls.predictions.transform.dense.weight', 'cls.seq_relationship.bias', 'cls.predictions.transform.LayerNorm.weight', 'cls.predictions.transform.LayerNorm.bias', 'cls.predictions.decoder.weight', 'cls.predictions.transform.dense.bias']\n",
      "- This IS expected if you are initializing BertModel from the checkpoint of a model trained on another task or with another architecture (e.g. initializing a BertForSequenceClassification model from a BertForPreTraining model).\n",
      "- This IS NOT expected if you are initializing BertModel from the checkpoint of a model that you expect to be exactly identical (initializing a BertForSequenceClassification model from a BertForSequenceClassification model).\n"
     ]
    }
   ],
   "source": [
    "from transformers import AutoTokenizer, AutoModel\n",
    "\n",
    "# but for now I'm only gonna use bert, cuz RAM\n",
    "model_name = \"bert-base-uncased\"\n",
    "\n",
    "model =  AutoModel.from_pretrained(model_name)\n",
    "tokenizer = AutoTokenizer.from_pretrained(model_name)"
   ]
  },
  {
   "cell_type": "code",
   "execution_count": 5,
   "metadata": {
    "vscode": {
     "languageId": "python"
    }
   },
   "outputs": [],
   "source": [
    "def add_sentence_special_token(example):\n",
    "    example['lyrics'] = example['lyrics'].replace(' NEWLINE ', ' [SEP] ')\n",
    "\n",
    "    return example"
   ]
  },
  {
   "cell_type": "code",
   "execution_count": 11,
   "metadata": {
    "vscode": {
     "languageId": "python"
    }
   },
   "outputs": [],
   "source": [
    "from transformers import FeatureExtractionPipeline\n",
    "from transformers.pipelines.pt_utils import KeyDataset\n",
    "from tqdm.notebook import tqdm\n",
    "\n",
    "feature_extract_pipeline = FeatureExtractionPipeline(model=model, tokenizer=tokenizer, framework='pt',  device=1)\n",
    "\n",
    "def get_embeddings(dataset):\n",
    "    dataset = dataset.map(add_sentence_special_token)\n",
    "\n",
    "    embeddings = []\n",
    "    labels = artists.str2int(dataset['artist'])\n",
    "\n",
    "    pipe = feature_extract_pipeline(KeyDataset(dataset, 'lyrics'), batch_size=32, truncation=True)\n",
    "\n",
    "    for embedding in tqdm(pipe, total=len(dataset)):\n",
    "        clr_embedding = embedding[0][0]\n",
    "\n",
    "        embeddings.append(clr_embedding)\n",
    "\n",
    "    return embeddings, labels"
   ]
  },
  {
   "cell_type": "code",
   "execution_count": 13,
   "metadata": {
    "vscode": {
     "languageId": "python"
    }
   },
   "outputs": [
    {
     "data": {
      "application/vnd.jupyter.widget-view+json": {
       "model_id": "e95eb75355d34c6588d17200ac04643f",
       "version_major": 2,
       "version_minor": 0
      },
      "text/plain": [
       "  0%|          | 0/10000 [00:00<?, ?ex/s]"
      ]
     },
     "metadata": {},
     "output_type": "display_data"
    },
    {
     "data": {
      "application/vnd.jupyter.widget-view+json": {
       "model_id": "493eda195ec241dfaa5c0b39260099b0",
       "version_major": 2,
       "version_minor": 0
      },
      "text/plain": [
       "  0%|          | 0/10000 [00:00<?, ?it/s]"
      ]
     },
     "metadata": {},
     "output_type": "display_data"
    }
   ],
   "source": [
    "train_num_examples = 10000\n",
    "train_examples = dataset['train'].select(range(train_num_examples))\n",
    "\n",
    "train_embeddings, train_labels = get_embeddings(train_examples)"
   ]
  },
  {
   "cell_type": "code",
   "execution_count": 14,
   "metadata": {
    "vscode": {
     "languageId": "python"
    }
   },
   "outputs": [
    {
     "data": {
      "text/html": [
       "<style>#sk-container-id-1 {color: black;background-color: white;}#sk-container-id-1 pre{padding: 0;}#sk-container-id-1 div.sk-toggleable {background-color: white;}#sk-container-id-1 label.sk-toggleable__label {cursor: pointer;display: block;width: 100%;margin-bottom: 0;padding: 0.3em;box-sizing: border-box;text-align: center;}#sk-container-id-1 label.sk-toggleable__label-arrow:before {content: \"▸\";float: left;margin-right: 0.25em;color: #696969;}#sk-container-id-1 label.sk-toggleable__label-arrow:hover:before {color: black;}#sk-container-id-1 div.sk-estimator:hover label.sk-toggleable__label-arrow:before {color: black;}#sk-container-id-1 div.sk-toggleable__content {max-height: 0;max-width: 0;overflow: hidden;text-align: left;background-color: #f0f8ff;}#sk-container-id-1 div.sk-toggleable__content pre {margin: 0.2em;color: black;border-radius: 0.25em;background-color: #f0f8ff;}#sk-container-id-1 input.sk-toggleable__control:checked~div.sk-toggleable__content {max-height: 200px;max-width: 100%;overflow: auto;}#sk-container-id-1 input.sk-toggleable__control:checked~label.sk-toggleable__label-arrow:before {content: \"▾\";}#sk-container-id-1 div.sk-estimator input.sk-toggleable__control:checked~label.sk-toggleable__label {background-color: #d4ebff;}#sk-container-id-1 div.sk-label input.sk-toggleable__control:checked~label.sk-toggleable__label {background-color: #d4ebff;}#sk-container-id-1 input.sk-hidden--visually {border: 0;clip: rect(1px 1px 1px 1px);clip: rect(1px, 1px, 1px, 1px);height: 1px;margin: -1px;overflow: hidden;padding: 0;position: absolute;width: 1px;}#sk-container-id-1 div.sk-estimator {font-family: monospace;background-color: #f0f8ff;border: 1px dotted black;border-radius: 0.25em;box-sizing: border-box;margin-bottom: 0.5em;}#sk-container-id-1 div.sk-estimator:hover {background-color: #d4ebff;}#sk-container-id-1 div.sk-parallel-item::after {content: \"\";width: 100%;border-bottom: 1px solid gray;flex-grow: 1;}#sk-container-id-1 div.sk-label:hover label.sk-toggleable__label {background-color: #d4ebff;}#sk-container-id-1 div.sk-serial::before {content: \"\";position: absolute;border-left: 1px solid gray;box-sizing: border-box;top: 0;bottom: 0;left: 50%;z-index: 0;}#sk-container-id-1 div.sk-serial {display: flex;flex-direction: column;align-items: center;background-color: white;padding-right: 0.2em;padding-left: 0.2em;position: relative;}#sk-container-id-1 div.sk-item {position: relative;z-index: 1;}#sk-container-id-1 div.sk-parallel {display: flex;align-items: stretch;justify-content: center;background-color: white;position: relative;}#sk-container-id-1 div.sk-item::before, #sk-container-id-1 div.sk-parallel-item::before {content: \"\";position: absolute;border-left: 1px solid gray;box-sizing: border-box;top: 0;bottom: 0;left: 50%;z-index: -1;}#sk-container-id-1 div.sk-parallel-item {display: flex;flex-direction: column;z-index: 1;position: relative;background-color: white;}#sk-container-id-1 div.sk-parallel-item:first-child::after {align-self: flex-end;width: 50%;}#sk-container-id-1 div.sk-parallel-item:last-child::after {align-self: flex-start;width: 50%;}#sk-container-id-1 div.sk-parallel-item:only-child::after {width: 0;}#sk-container-id-1 div.sk-dashed-wrapped {border: 1px dashed gray;margin: 0 0.4em 0.5em 0.4em;box-sizing: border-box;padding-bottom: 0.4em;background-color: white;}#sk-container-id-1 div.sk-label label {font-family: monospace;font-weight: bold;display: inline-block;line-height: 1.2em;}#sk-container-id-1 div.sk-label-container {text-align: center;}#sk-container-id-1 div.sk-container {/* jupyter's `normalize.less` sets `[hidden] { display: none; }` but bootstrap.min.css set `[hidden] { display: none !important; }` so we also need the `!important` here to be able to override the default hidden behavior on the sphinx rendered scikit-learn.org. See: https://github.com/scikit-learn/scikit-learn/issues/21755 */display: inline-block !important;position: relative;}#sk-container-id-1 div.sk-text-repr-fallback {display: none;}</style><div id=\"sk-container-id-1\" class=\"sk-top-container\"><div class=\"sk-text-repr-fallback\"><pre>KNeighborsClassifier(weights=&#x27;distance&#x27;)</pre><b>In a Jupyter environment, please rerun this cell to show the HTML representation or trust the notebook. <br />On GitHub, the HTML representation is unable to render, please try loading this page with nbviewer.org.</b></div><div class=\"sk-container\" hidden><div class=\"sk-item\"><div class=\"sk-estimator sk-toggleable\"><input class=\"sk-toggleable__control sk-hidden--visually\" id=\"sk-estimator-id-1\" type=\"checkbox\" checked><label for=\"sk-estimator-id-1\" class=\"sk-toggleable__label sk-toggleable__label-arrow\">KNeighborsClassifier</label><div class=\"sk-toggleable__content\"><pre>KNeighborsClassifier(weights=&#x27;distance&#x27;)</pre></div></div></div></div></div>"
      ],
      "text/plain": [
       "KNeighborsClassifier(weights='distance')"
      ]
     },
     "execution_count": 14,
     "metadata": {},
     "output_type": "execute_result"
    }
   ],
   "source": [
    "from sklearn.neighbors import KNeighborsClassifier\n",
    "\n",
    "neigh = KNeighborsClassifier(weights=\"distance\")\n",
    "neigh.fit(train_embeddings, train_labels)"
   ]
  },
  {
   "cell_type": "code",
   "execution_count": 15,
   "metadata": {
    "vscode": {
     "languageId": "python"
    }
   },
   "outputs": [
    {
     "data": {
      "application/vnd.jupyter.widget-view+json": {
       "model_id": "61bbe3ece6654b4aa9d8ae9ac28c0efd",
       "version_major": 2,
       "version_minor": 0
      },
      "text/plain": [
       "  0%|          | 0/100 [00:00<?, ?ex/s]"
      ]
     },
     "metadata": {},
     "output_type": "display_data"
    },
    {
     "data": {
      "application/vnd.jupyter.widget-view+json": {
       "model_id": "1c72ecd612d4428eaef3e1aaa1b28d14",
       "version_major": 2,
       "version_minor": 0
      },
      "text/plain": [
       "  0%|          | 0/100 [00:00<?, ?it/s]"
      ]
     },
     "metadata": {},
     "output_type": "display_data"
    }
   ],
   "source": [
    "test_num_examples = 100\n",
    "test_examples = dataset['test'].select(range(test_num_examples))\n",
    "\n",
    "test_embeddings, test_lables = get_embeddings(test_examples)"
   ]
  },
  {
   "cell_type": "code",
   "execution_count": 16,
   "metadata": {
    "vscode": {
     "languageId": "python"
    }
   },
   "outputs": [
    {
     "name": "stderr",
     "output_type": "stream",
     "text": [
      "Matplotlib is building the font cache; this may take a moment.\n"
     ]
    }
   ],
   "source": [
    "import matplotlib.pyplot as plt\n",
    "import evaluate\n",
    "\n",
    "acc_metric = evaluate.load(\"accuracy\")\n",
    "\n",
    "def evalute_knn(embeddings, references):\n",
    "    diff_setups = []\n",
    "    for n in range(1,30):\n",
    "        neigh.set_params(n_neighbors=n)\n",
    "        predictions = neigh.predict(embeddings)\n",
    "\n",
    "        diff_setups.append({'n': n, 'predictions': predictions})\n",
    "\n",
    "    scores = []\n",
    "    n_neighbours = []\n",
    "    for i, setup in enumerate(diff_setups):\n",
    "        metric = acc_metric.compute(predictions=setup['predictions'], references=test_lables)\n",
    "\n",
    "        score = metric['accuracy']\n",
    "        scores.append(score)\n",
    "        n_neighbours.append(i+1)\n",
    "\n",
    "        print('n:', i+1, 'acc:', score)\n",
    "\n",
    "    return n_neighbours, scores"
   ]
  },
  {
   "cell_type": "code",
   "execution_count": 17,
   "metadata": {
    "vscode": {
     "languageId": "python"
    }
   },
   "outputs": [
    {
     "name": "stdout",
     "output_type": "stream",
     "text": [
      "n: 1 acc: 0.03\n",
      "n: 2 acc: 0.03\n",
      "n: 3 acc: 0.03\n",
      "n: 4 acc: 0.04\n",
      "n: 5 acc: 0.05\n",
      "n: 6 acc: 0.05\n",
      "n: 7 acc: 0.05\n",
      "n: 8 acc: 0.04\n",
      "n: 9 acc: 0.04\n",
      "n: 10 acc: 0.05\n",
      "n: 11 acc: 0.06\n",
      "n: 12 acc: 0.06\n",
      "n: 13 acc: 0.06\n",
      "n: 14 acc: 0.07\n",
      "n: 15 acc: 0.07\n",
      "n: 16 acc: 0.07\n",
      "n: 17 acc: 0.05\n",
      "n: 18 acc: 0.06\n",
      "n: 19 acc: 0.06\n",
      "n: 20 acc: 0.06\n",
      "n: 21 acc: 0.06\n",
      "n: 22 acc: 0.06\n",
      "n: 23 acc: 0.06\n",
      "n: 24 acc: 0.06\n",
      "n: 25 acc: 0.06\n",
      "n: 26 acc: 0.05\n",
      "n: 27 acc: 0.05\n",
      "n: 28 acc: 0.05\n",
      "n: 29 acc: 0.05\n",
      "\n",
      "Training examples: 10000\n",
      "Test examples: 100\n"
     ]
    },
    {
     "data": {
      "image/png": "[encoded data removed]",
      "text/plain": [
       "<Figure size 432x288 with 1 Axes>"
      ]
     },
     "metadata": {
      "needs_background": "light"
     },
     "output_type": "display_data"
    }
   ],
   "source": [
    "n_neighbours, scores = evalute_knn(test_embeddings, test_lables)\n",
    "\n",
    "plt.plot(n_neighbours, scores)\n",
    "\n",
    "print()\n",
    "print('Training examples:', len(train_embeddings))\n",
    "print('Test examples:', len(test_embeddings))\n",
    "plt.show()"
   ]
  },
  {
   "cell_type": "code",
   "execution_count": 21,
   "metadata": {
    "vscode": {
     "languageId": "python"
    }
   },
   "outputs": [
    {
     "name": "stdout",
     "output_type": "stream",
     "text": [
      "n: 1 acc: 0.04\n",
      "n: 2 acc: 0.04\n",
      "n: 3 acc: 0.04\n",
      "n: 4 acc: 0.05\n",
      "n: 5 acc: 0.05\n",
      "n: 6 acc: 0.05\n",
      "n: 7 acc: 0.04\n",
      "n: 8 acc: 0.04\n",
      "n: 9 acc: 0.05\n",
      "n: 10 acc: 0.05\n",
      "n: 11 acc: 0.06\n",
      "n: 12 acc: 0.08\n",
      "n: 13 acc: 0.09\n",
      "n: 14 acc: 0.08\n",
      "n: 15 acc: 0.09\n",
      "n: 16 acc: 0.1\n",
      "n: 17 acc: 0.1\n",
      "n: 18 acc: 0.1\n",
      "n: 19 acc: 0.08\n",
      "n: 20 acc: 0.08\n",
      "n: 21 acc: 0.08\n",
      "n: 22 acc: 0.08\n",
      "n: 23 acc: 0.08\n",
      "n: 24 acc: 0.08\n",
      "n: 25 acc: 0.08\n",
      "n: 26 acc: 0.08\n",
      "n: 27 acc: 0.08\n",
      "n: 28 acc: 0.08\n",
      "n: 29 acc: 0.08\n",
      "\n",
      "Training examples: 20000\n",
      "Test examples: 100\n"
     ]
    },
    {
     "data": {
      "image/png": "[encoded data removed]",
      "text/plain": [
       "<Figure size 432x288 with 1 Axes>"
      ]
     },
     "metadata": {
      "needs_background": "light"
     },
     "output_type": "display_data"
    }
   ],
   "source": [
    "n_neighbours, scores = evalute_knn(test_embeddings, test_lables)\n",
    "\n",
    "plt.plot(n_neighbours, scores)\n",
    "\n",
    "print()\n",
    "print('Training examples:', len(train_embeddings))\n",
    "print('Test examples:', len(test_embeddings))\n",
    "plt.show()"
   ]
  },
  {
   "cell_type": "code",
   "execution_count": 22,
   "metadata": {
    "vscode": {
     "languageId": "python"
    }
   },
   "outputs": [],
   "source": [
    "from sentence_transformers import SentenceTransformer\n",
    "model_st = SentenceTransformer('all-distilroberta-v1', cache_folder=cache_folder)\n",
    "\n",
    "def get_embeddings(dataset):\n",
    "    dataset = dataset.map(add_sentence_special_token)\n",
    "\n",
    "    labels = artists.str2int(dataset['artist'])\n",
    "    embeddings = model_st.encode(dataset['lyrics'])\n",
    "\n",
    "    return embeddings, labels"
   ]
  },
  {
   "cell_type": "code",
   "execution_count": 23,
   "metadata": {
    "vscode": {
     "languageId": "python"
    }
   },
   "outputs": [
    {
     "data": {
      "application/vnd.jupyter.widget-view+json": {
       "model_id": "ef3534564d0d4cdbac7b6b091878f4d2",
       "version_major": 2,
       "version_minor": 0
      },
      "text/plain": [
       "  0%|          | 0/10000 [00:00<?, ?ex/s]"
      ]
     },
     "metadata": {},
     "output_type": "display_data"
    }
   ],
   "source": [
    "train_num_examples = 10000\n",
    "train_examples = dataset['train'].select(range(train_num_examples))\n",
    "\n",
    "train_embeddings, train_labels = get_embeddings(train_examples)"
   ]
  },
  {
   "cell_type": "code",
   "execution_count": 24,
   "metadata": {
    "vscode": {
     "languageId": "python"
    }
   },
   "outputs": [
    {
     "data": {
      "text/html": [
       "<style>#sk-container-id-3 {color: black;background-color: white;}#sk-container-id-3 pre{padding: 0;}#sk-container-id-3 div.sk-toggleable {background-color: white;}#sk-container-id-3 label.sk-toggleable__label {cursor: pointer;display: block;width: 100%;margin-bottom: 0;padding: 0.3em;box-sizing: border-box;text-align: center;}#sk-container-id-3 label.sk-toggleable__label-arrow:before {content: \"▸\";float: left;margin-right: 0.25em;color: #696969;}#sk-container-id-3 label.sk-toggleable__label-arrow:hover:before {color: black;}#sk-container-id-3 div.sk-estimator:hover label.sk-toggleable__label-arrow:before {color: black;}#sk-container-id-3 div.sk-toggleable__content {max-height: 0;max-width: 0;overflow: hidden;text-align: left;background-color: #f0f8ff;}#sk-container-id-3 div.sk-toggleable__content pre {margin: 0.2em;color: black;border-radius: 0.25em;background-color: #f0f8ff;}#sk-container-id-3 input.sk-toggleable__control:checked~div.sk-toggleable__content {max-height: 200px;max-width: 100%;overflow: auto;}#sk-container-id-3 input.sk-toggleable__control:checked~label.sk-toggleable__label-arrow:before {content: \"▾\";}#sk-container-id-3 div.sk-estimator input.sk-toggleable__control:checked~label.sk-toggleable__label {background-color: #d4ebff;}#sk-container-id-3 div.sk-label input.sk-toggleable__control:checked~label.sk-toggleable__label {background-color: #d4ebff;}#sk-container-id-3 input.sk-hidden--visually {border: 0;clip: rect(1px 1px 1px 1px);clip: rect(1px, 1px, 1px, 1px);height: 1px;margin: -1px;overflow: hidden;padding: 0;position: absolute;width: 1px;}#sk-container-id-3 div.sk-estimator {font-family: monospace;background-color: #f0f8ff;border: 1px dotted black;border-radius: 0.25em;box-sizing: border-box;margin-bottom: 0.5em;}#sk-container-id-3 div.sk-estimator:hover {background-color: #d4ebff;}#sk-container-id-3 div.sk-parallel-item::after {content: \"\";width: 100%;border-bottom: 1px solid gray;flex-grow: 1;}#sk-container-id-3 div.sk-label:hover label.sk-toggleable__label {background-color: #d4ebff;}#sk-container-id-3 div.sk-serial::before {content: \"\";position: absolute;border-left: 1px solid gray;box-sizing: border-box;top: 0;bottom: 0;left: 50%;z-index: 0;}#sk-container-id-3 div.sk-serial {display: flex;flex-direction: column;align-items: center;background-color: white;padding-right: 0.2em;padding-left: 0.2em;position: relative;}#sk-container-id-3 div.sk-item {position: relative;z-index: 1;}#sk-container-id-3 div.sk-parallel {display: flex;align-items: stretch;justify-content: center;background-color: white;position: relative;}#sk-container-id-3 div.sk-item::before, #sk-container-id-3 div.sk-parallel-item::before {content: \"\";position: absolute;border-left: 1px solid gray;box-sizing: border-box;top: 0;bottom: 0;left: 50%;z-index: -1;}#sk-container-id-3 div.sk-parallel-item {display: flex;flex-direction: column;z-index: 1;position: relative;background-color: white;}#sk-container-id-3 div.sk-parallel-item:first-child::after {align-self: flex-end;width: 50%;}#sk-container-id-3 div.sk-parallel-item:last-child::after {align-self: flex-start;width: 50%;}#sk-container-id-3 div.sk-parallel-item:only-child::after {width: 0;}#sk-container-id-3 div.sk-dashed-wrapped {border: 1px dashed gray;margin: 0 0.4em 0.5em 0.4em;box-sizing: border-box;padding-bottom: 0.4em;background-color: white;}#sk-container-id-3 div.sk-label label {font-family: monospace;font-weight: bold;display: inline-block;line-height: 1.2em;}#sk-container-id-3 div.sk-label-container {text-align: center;}#sk-container-id-3 div.sk-container {/* jupyter's `normalize.less` sets `[hidden] { display: none; }` but bootstrap.min.css set `[hidden] { display: none !important; }` so we also need the `!important` here to be able to override the default hidden behavior on the sphinx rendered scikit-learn.org. See: https://github.com/scikit-learn/scikit-learn/issues/21755 */display: inline-block !important;position: relative;}#sk-container-id-3 div.sk-text-repr-fallback {display: none;}</style><div id=\"sk-container-id-3\" class=\"sk-top-container\"><div class=\"sk-text-repr-fallback\"><pre>KNeighborsClassifier(weights=&#x27;distance&#x27;)</pre><b>In a Jupyter environment, please rerun this cell to show the HTML representation or trust the notebook. <br />On GitHub, the HTML representation is unable to render, please try loading this page with nbviewer.org.</b></div><div class=\"sk-container\" hidden><div class=\"sk-item\"><div class=\"sk-estimator sk-toggleable\"><input class=\"sk-toggleable__control sk-hidden--visually\" id=\"sk-estimator-id-3\" type=\"checkbox\" checked><label for=\"sk-estimator-id-3\" class=\"sk-toggleable__label sk-toggleable__label-arrow\">KNeighborsClassifier</label><div class=\"sk-toggleable__content\"><pre>KNeighborsClassifier(weights=&#x27;distance&#x27;)</pre></div></div></div></div></div>"
      ],
      "text/plain": [
       "KNeighborsClassifier(weights='distance')"
      ]
     },
     "execution_count": 24,
     "metadata": {},
     "output_type": "execute_result"
    }
   ],
   "source": [
    "from sklearn.neighbors import KNeighborsClassifier\n",
    "\n",
    "neigh = KNeighborsClassifier(weights=\"distance\")\n",
    "neigh.fit(train_embeddings, train_labels)"
   ]
  },
  {
   "cell_type": "code",
   "execution_count": 25,
   "metadata": {
    "vscode": {
     "languageId": "python"
    }
   },
   "outputs": [
    {
     "data": {
      "application/vnd.jupyter.widget-view+json": {
       "model_id": "ca991c65624942ca8c16235a31e2938d",
       "version_major": 2,
       "version_minor": 0
      },
      "text/plain": [
       "  0%|          | 0/100 [00:00<?, ?ex/s]"
      ]
     },
     "metadata": {},
     "output_type": "display_data"
    }
   ],
   "source": [
    "test_num_examples = 100\n",
    "test_examples = dataset['test'].select(range(test_num_examples))\n",
    "\n",
    "test_embeddings, test_lables = get_embeddings(test_examples)"
   ]
  },
  {
   "cell_type": "code",
   "execution_count": 26,
   "metadata": {
    "vscode": {
     "languageId": "python"
    }
   },
   "outputs": [
    {
     "name": "stdout",
     "output_type": "stream",
     "text": [
      "n: 1 acc: 0.04\n",
      "n: 2 acc: 0.04\n",
      "n: 3 acc: 0.05\n",
      "n: 4 acc: 0.06\n",
      "n: 5 acc: 0.06\n",
      "n: 6 acc: 0.06\n",
      "n: 7 acc: 0.06\n",
      "n: 8 acc: 0.05\n",
      "n: 9 acc: 0.05\n",
      "n: 10 acc: 0.05\n",
      "n: 11 acc: 0.05\n",
      "n: 12 acc: 0.07\n",
      "n: 13 acc: 0.06\n",
      "n: 14 acc: 0.06\n",
      "n: 15 acc: 0.06\n",
      "n: 16 acc: 0.07\n",
      "n: 17 acc: 0.07\n",
      "n: 18 acc: 0.07\n",
      "n: 19 acc: 0.07\n",
      "n: 20 acc: 0.08\n",
      "n: 21 acc: 0.08\n",
      "n: 22 acc: 0.08\n",
      "n: 23 acc: 0.08\n",
      "n: 24 acc: 0.08\n",
      "n: 25 acc: 0.08\n",
      "n: 26 acc: 0.08\n",
      "n: 27 acc: 0.08\n",
      "n: 28 acc: 0.08\n",
      "n: 29 acc: 0.08\n",
      "\n",
      "Training examples: 10000\n",
      "Test examples: 100\n"
     ]
    },
    {
     "data": {
      "image/png": "[encoded data removed]",
      "text/plain": [
       "<Figure size 432x288 with 1 Axes>"
      ]
     },
     "metadata": {
      "needs_background": "light"
     },
     "output_type": "display_data"
    }
   ],
   "source": [
    "n_neighbours, scores = evalute_knn(test_embeddings, test_lables)\n",
    "\n",
    "plt.plot(n_neighbours, scores)\n",
    "\n",
    "print()\n",
    "print('Training examples:', len(train_embeddings))\n",
    "print('Test examples:', len(test_embeddings))\n",
    "plt.show()"
   ]
  },
  {
   "cell_type": "code",
   "execution_count": 47,
   "metadata": {
    "vscode": {
     "languageId": "python"
    }
   },
   "outputs": [
    {
     "name": "stdout",
     "output_type": "stream",
     "text": [
      "n: 1 acc: 0.04\n",
      "n: 2 acc: 0.04\n",
      "n: 3 acc: 0.04\n",
      "n: 4 acc: 0.06\n",
      "n: 5 acc: 0.06\n",
      "n: 6 acc: 0.05\n",
      "n: 7 acc: 0.06\n",
      "n: 8 acc: 0.06\n",
      "n: 9 acc: 0.07\n",
      "n: 10 acc: 0.07\n",
      "n: 11 acc: 0.07\n",
      "n: 12 acc: 0.08\n",
      "n: 13 acc: 0.08\n",
      "n: 14 acc: 0.09\n",
      "n: 15 acc: 0.09\n",
      "n: 16 acc: 0.09\n",
      "n: 17 acc: 0.09\n",
      "n: 18 acc: 0.09\n",
      "n: 19 acc: 0.09\n",
      "n: 20 acc: 0.09\n",
      "n: 21 acc: 0.09\n",
      "n: 22 acc: 0.09\n",
      "n: 23 acc: 0.09\n",
      "n: 24 acc: 0.1\n",
      "n: 25 acc: 0.1\n",
      "n: 26 acc: 0.11\n",
      "n: 27 acc: 0.11\n",
      "n: 28 acc: 0.11\n",
      "n: 29 acc: 0.11\n",
      "\n",
      "Training examples: 20000\n",
      "Test examples: 100\n"
     ]
    },
    {
     "data": {
      "image/png": "[encoded data removed]",
      "text/plain": [
       "<Figure size 432x288 with 1 Axes>"
      ]
     },
     "metadata": {
      "needs_background": "light"
     },
     "output_type": "display_data"
    }
   ],
   "source": [
    "n_neighbours, scores = evalute_knn(test_embeddings, test_lables)\n",
    "\n",
    "plt.plot(n_neighbours, scores)\n",
    "\n",
    "print()\n",
    "print('Training examples:', len(train_embeddings))\n",
    "print('Test examples:', len(test_embeddings))\n",
    "plt.show()"
   ]
  },
  {
   "cell_type": "markdown",
   "metadata": {},
   "source": [
    "## Fine-tune BERT on artist classification\n",
    "Now we're going to fine-tune the BERT model on SequenceClassification task, using the classic pipelines"
   ]
  },
  {
   "cell_type": "code",
   "execution_count": 2,
   "metadata": {
    "vscode": {
     "languageId": "python"
    }
   },
   "outputs": [],
   "source": [
    "import os\n",
    "os.environ['TRANSFORMERS_CACHE'] = '/mount/studenten-temp1/users/knupleun/.cache/huggingface'"
   ]
  },
  {
   "cell_type": "code",
   "execution_count": 1,
   "metadata": {
    "vscode": {
     "languageId": "python"
    }
   },
   "outputs": [
    {
     "name": "stderr",
     "output_type": "stream",
     "text": [
      "Using custom data configuration default-3fb4b2608fc76309\n",
      "Reusing dataset csv (/mount/studenten-temp1/users/knupi/.cache/huggingface/csv/default-3fb4b2608fc76309/0.0.0/51cce309a08df9c4d82ffd9363bbe090bf173197fc01a71b034e8594995a1a58)\n"
     ]
    },
    {
     "data": {
      "application/vnd.jupyter.widget-view+json": {
       "model_id": "0363697f6aa54c3b9095ed397d2d4c82",
       "version_major": 2,
       "version_minor": 0
      },
      "text/plain": [
       "  0%|          | 0/3 [00:00<?, ?it/s]"
      ]
     },
     "metadata": {},
     "output_type": "display_data"
    }
   ],
   "source": [
    "from datasets import load_dataset\n",
    "\n",
    "dataset_folder = '../data/'\n",
    "\n",
    "dataset = load_dataset('csv',\n",
    "                     data_files={\n",
    "                        'train': dataset_folder + 'songs_train.txt',\n",
    "                        'test': dataset_folder + 'songs_test.txt',\n",
    "                        'dev': dataset_folder + 'songs_dev.txt',\n",
    "                     },\n",
    "                     column_names=['artist', 'title', 'lyrics'],\n",
    "                     sep='\\t')"
   ]
  },
  {
   "cell_type": "code",
   "execution_count": 2,
   "metadata": {
    "vscode": {
     "languageId": "python"
    }
   },
   "outputs": [],
   "source": [
    "from datasets import ClassLabel\n",
    "\n",
    "if len(dataset) == 3:\n",
    "    union_artists = set(dataset['train']['artist']) | set(dataset['test']['artist']) | set(dataset['dev']['artist'])\n",
    "else:\n",
    "    union_artists = set(dataset['artist'])\n",
    "\n",
    "artists = ClassLabel(names=list(union_artists))"
   ]
  },
  {
   "cell_type": "code",
   "execution_count": 3,
   "metadata": {
    "vscode": {
     "languageId": "python"
    }
   },
   "outputs": [
    {
     "name": "stderr",
     "output_type": "stream",
     "text": [
      "Some weights of the model checkpoint at bert-base-uncased were not used when initializing BertForSequenceClassification: ['cls.predictions.bias', 'cls.seq_relationship.bias', 'cls.predictions.decoder.weight', 'cls.predictions.transform.LayerNorm.bias', 'cls.predictions.transform.dense.bias', 'cls.predictions.transform.dense.weight', 'cls.seq_relationship.weight', 'cls.predictions.transform.LayerNorm.weight']\n",
      "- This IS expected if you are initializing BertForSequenceClassification from the checkpoint of a model trained on another task or with another architecture (e.g. initializing a BertForSequenceClassification model from a BertForPreTraining model).\n",
      "- This IS NOT expected if you are initializing BertForSequenceClassification from the checkpoint of a model that you expect to be exactly identical (initializing a BertForSequenceClassification model from a BertForSequenceClassification model).\n",
      "Some weights of BertForSequenceClassification were not initialized from the model checkpoint at bert-base-uncased and are newly initialized: ['classifier.bias', 'classifier.weight']\n",
      "You should probably TRAIN this model on a down-stream task to be able to use it for predictions and inference.\n"
     ]
    }
   ],
   "source": [
    "from transformers import AutoTokenizer, AutoModelForSequenceClassification \n",
    "\n",
    "# This model can be used for loooong documents\n",
    "model_name = \"allenai/longformer-base-4096\"\n",
    "\n",
    "# but for now I'm only gonna use bert, cuz RAM\n",
    "model_name = \"bert-base-uncased\"\n",
    "\n",
    "tokenizer = AutoTokenizer.from_pretrained(model_name)\n",
    "model = AutoModelForSequenceClassification.from_pretrained(model_name,\n",
    "                                                           num_labels=artists.num_classes,\n",
    "                                                           problem_type=\"single_label_classification\"\n",
    "                                                          )"
   ]
  },
  {
   "cell_type": "code",
   "execution_count": 26,
   "metadata": {
    "vscode": {
     "languageId": "python"
    }
   },
   "outputs": [
    {
     "name": "stderr",
     "output_type": "stream",
     "text": [
      "Parameter 'function'=<function transform at 0x7fd533c89310> of the transform datasets.arrow_dataset.Dataset._map_single couldn't be hashed properly, a random hash was used instead. Make sure your transforms and parameters are serializable with pickle or dill for the dataset fingerprinting and caching to work. If you reuse this transform, the caching mechanism will consider it to be different from the previous calls and recompute everything. This warning is only showed once. Subsequent hashing failures won't be showed.\n"
     ]
    },
    {
     "data": {
      "application/vnd.jupyter.widget-view+json": {
       "model_id": "b10464170fa643978383c91579ca3e88",
       "version_major": 2,
       "version_minor": 0
      },
      "text/plain": [
       "  0%|          | 0/47 [00:00<?, ?ba/s]"
      ]
     },
     "metadata": {},
     "output_type": "display_data"
    },
    {
     "data": {
      "application/vnd.jupyter.widget-view+json": {
       "model_id": "9ba57d0bb96f4f4b86167c6106ae0b67",
       "version_major": 2,
       "version_minor": 0
      },
      "text/plain": [
       "  0%|          | 0/6 [00:00<?, ?ba/s]"
      ]
     },
     "metadata": {},
     "output_type": "display_data"
    },
    {
     "data": {
      "application/vnd.jupyter.widget-view+json": {
       "model_id": "33f73c661df049728223f1ed441e091b",
       "version_major": 2,
       "version_minor": 0
      },
      "text/plain": [
       "  0%|          | 0/6 [00:00<?, ?ba/s]"
      ]
     },
     "metadata": {},
     "output_type": "display_data"
    },
    {
     "data": {
      "text/plain": [
       "DatasetDict({\n",
       "    train: Dataset({\n",
       "        features: ['labels', 'input_ids', 'token_type_ids', 'attention_mask'],\n",
       "        num_rows: 46120\n",
       "    })\n",
       "    test: Dataset({\n",
       "        features: ['labels', 'input_ids', 'token_type_ids', 'attention_mask'],\n",
       "        num_rows: 5765\n",
       "    })\n",
       "    dev: Dataset({\n",
       "        features: ['labels', 'input_ids', 'token_type_ids', 'attention_mask'],\n",
       "        num_rows: 5765\n",
       "    })\n",
       "})"
      ]
     },
     "execution_count": 26,
     "metadata": {},
     "output_type": "execute_result"
    }
   ],
   "source": [
    "from transformers import AutoTokenizer\n",
    "\n",
    "# Turn labels to numbers and tokenize input\n",
    "def transform(batch):\n",
    "    batch['labels'] = artists.str2int(batch['artist'])\n",
    "    return tokenizer(batch[\"lyrics\"], padding=\"max_length\", truncation=True)\n",
    "\n",
    "\n",
    "tokenized_datasets = dataset.map(transform, batched=True).remove_columns(['artist', 'title', 'lyrics'])\n",
    "tokenized_datasets"
   ]
  },
  {
   "cell_type": "code",
   "execution_count": 27,
   "metadata": {
    "vscode": {
     "languageId": "python"
    }
   },
   "outputs": [],
   "source": [
    "import evaluate\n",
    "import numpy as np\n",
    "\n",
    "def compute_metrics(eval_preds):\n",
    "    f1_metric = evaluate.load(\"f1\")\n",
    "    acc_metric = evaluate.load(\"accuracy\")\n",
    "    \n",
    "    logits, labels = eval_preds\n",
    "    predictions = np.argmax(logits, axis=-1)\n",
    "\n",
    "    metric = acc_metric.compute(predictions=predictions, references=labels)\n",
    "    metric.update(f1_metric.compute(predictions=predictions, references=labels, average=\"micro\"))\n",
    "\n",
    "    return metric"
   ]
  },
  {
   "cell_type": "code",
   "execution_count": 14,
   "metadata": {
    "vscode": {
     "languageId": "python"
    }
   },
   "outputs": [
    {
     "name": "stderr",
     "output_type": "stream",
     "text": [
      "PyTorch: setting up devices\n",
      "The default value for the training argument `--report_to` will change in v5 (from all installed integrations to none). In v5, you will need to use `--report_to all` to get the same behavior as now. You should start updating your code and make this info disappear :-).\n"
     ]
    }
   ],
   "source": [
    "from transformers import TrainingArguments, Trainer\n",
    "\n",
    "training_args = TrainingArguments(\n",
    "    output_dir=\"/mount/studenten-temp1/users/knupleun/artist-classification/teamlabs_model\"\n",
    "    evaluation_strategy=\"steps\",\n",
    "    gradient_checkpointing=True,\n",
    "    eval_steps=150,\n",
    "    per_device_train_batch_size=16,  # batch size per device during training\n",
    "    per_device_eval_batch_size=64,   # batch size for evaluation\n",
    "    num_train_epochs=3,\n",
    "    weight_decay=0.01,               # strength of weight decay\n",
    ")\n",
    "\n",
    "trainer = Trainer(\n",
    "    model=model,\n",
    "    args=training_args,\n",
    "    train_dataset=tokenized_datasets['train'],\n",
    "    eval_dataset=tokenized_datasets['dev'],\n",
    "    compute_metrics=compute_metrics,\n",
    ")"
   ]
  },
  {
   "cell_type": "code",
   "execution_count": 15,
   "metadata": {
    "vscode": {
     "languageId": "python"
    }
   },
   "outputs": [
    {
     "name": "stderr",
     "output_type": "stream",
     "text": [
      "***** Running training *****\n",
      "  Num examples = 46120\n",
      "  Num Epochs = 5\n",
      "  Instantaneous batch size per device = 16\n",
      "  Total train batch size (w. parallel, distributed & accumulation) = 16\n",
      "  Gradient Accumulation steps = 1\n",
      "  Total optimization steps = 14415\n"
     ]
    },
    {
     "data": {
      "text/html": [
       "\n",
       "    <div>\n",
       "      \n",
       "      <progress value='14415' max='14415' style='width:300px; height:20px; vertical-align: middle;'></progress>\n",
       "      [14415/14415 5:15:55, Epoch 5/5]\n",
       "    </div>\n",
       "    <table border=\"1\" class=\"dataframe\">\n",
       "  <thead>\n",
       " <tr style=\"text-align: left;\">\n",
       "      <th>Step</th>\n",
       "      <th>Training Loss</th>\n",
       "      <th>Validation Loss</th>\n",
       "      <th>Accuracy</th>\n",
       "      <th>F1</th>\n",
       "    </tr>\n",
       "  </thead>\n",
       "  <tbody>\n",
       "    <tr>\n",
       "      <td>150</td>\n",
       "      <td>No log</td>\n",
       "      <td>6.220192</td>\n",
       "      <td>0.003816</td>\n",
       "      <td>0.003816</td>\n",
       "    </tr>\n",
       "    <tr>\n",
       "      <td>300</td>\n",
       "      <td>No log</td>\n",
       "      <td>6.197334</td>\n",
       "      <td>0.004510</td>\n",
       "      <td>0.004510</td>\n",
       "    </tr>\n",
       "    <tr>\n",
       "      <td>450</td>\n",
       "      <td>No log</td>\n",
       "      <td>6.160745</td>\n",
       "      <td>0.005898</td>\n",
       "      <td>0.005898</td>\n",
       "    </tr>\n",
       "    <tr>\n",
       "      <td>600</td>\n",
       "      <td>6.182000</td>\n",
       "      <td>6.063807</td>\n",
       "      <td>0.008500</td>\n",
       "      <td>0.008500</td>\n",
       "    </tr>\n",
       "    <tr>\n",
       "      <td>750</td>\n",
       "      <td>6.182000</td>\n",
       "      <td>6.020972</td>\n",
       "      <td>0.011275</td>\n",
       "      <td>0.011275</td>\n",
       "    </tr>\n",
       "    <tr>\n",
       "      <td>900</td>\n",
       "      <td>6.182000</td>\n",
       "      <td>5.945712</td>\n",
       "      <td>0.010755</td>\n",
       "      <td>0.010755</td>\n",
       "    </tr>\n",
       "    <tr>\n",
       "      <td>1050</td>\n",
       "      <td>5.993800</td>\n",
       "      <td>5.896107</td>\n",
       "      <td>0.014744</td>\n",
       "      <td>0.014744</td>\n",
       "    </tr>\n",
       "    <tr>\n",
       "      <td>1200</td>\n",
       "      <td>5.993800</td>\n",
       "      <td>5.794146</td>\n",
       "      <td>0.018040</td>\n",
       "      <td>0.018040</td>\n",
       "    </tr>\n",
       "    <tr>\n",
       "      <td>1350</td>\n",
       "      <td>5.993800</td>\n",
       "      <td>5.775152</td>\n",
       "      <td>0.018040</td>\n",
       "      <td>0.018040</td>\n",
       "    </tr>\n",
       "    <tr>\n",
       "      <td>1500</td>\n",
       "      <td>5.822300</td>\n",
       "      <td>5.754690</td>\n",
       "      <td>0.016305</td>\n",
       "      <td>0.016305</td>\n",
       "    </tr>\n",
       "    <tr>\n",
       "      <td>1650</td>\n",
       "      <td>5.822300</td>\n",
       "      <td>5.672134</td>\n",
       "      <td>0.019254</td>\n",
       "      <td>0.019254</td>\n",
       "    </tr>\n",
       "    <tr>\n",
       "      <td>1800</td>\n",
       "      <td>5.822300</td>\n",
       "      <td>5.603222</td>\n",
       "      <td>0.027580</td>\n",
       "      <td>0.027580</td>\n",
       "    </tr>\n",
       "    <tr>\n",
       "      <td>1950</td>\n",
       "      <td>5.822300</td>\n",
       "      <td>5.586349</td>\n",
       "      <td>0.025499</td>\n",
       "      <td>0.025499</td>\n",
       "    </tr>\n",
       "    <tr>\n",
       "      <td>2100</td>\n",
       "      <td>5.662600</td>\n",
       "      <td>5.529922</td>\n",
       "      <td>0.030356</td>\n",
       "      <td>0.030356</td>\n",
       "    </tr>\n",
       "    <tr>\n",
       "      <td>2250</td>\n",
       "      <td>5.662600</td>\n",
       "      <td>5.493306</td>\n",
       "      <td>0.034692</td>\n",
       "      <td>0.034692</td>\n",
       "    </tr>\n",
       "    <tr>\n",
       "      <td>2400</td>\n",
       "      <td>5.662600</td>\n",
       "      <td>5.496828</td>\n",
       "      <td>0.032090</td>\n",
       "      <td>0.032090</td>\n",
       "    </tr>\n",
       "    <tr>\n",
       "      <td>2550</td>\n",
       "      <td>5.532700</td>\n",
       "      <td>5.470218</td>\n",
       "      <td>0.030703</td>\n",
       "      <td>0.030703</td>\n",
       "    </tr>\n",
       "    <tr>\n",
       "      <td>2700</td>\n",
       "      <td>5.532700</td>\n",
       "      <td>5.402917</td>\n",
       "      <td>0.033651</td>\n",
       "      <td>0.033651</td>\n",
       "    </tr>\n",
       "    <tr>\n",
       "      <td>2850</td>\n",
       "      <td>5.532700</td>\n",
       "      <td>5.386040</td>\n",
       "      <td>0.035733</td>\n",
       "      <td>0.035733</td>\n",
       "    </tr>\n",
       "    <tr>\n",
       "      <td>3000</td>\n",
       "      <td>5.398900</td>\n",
       "      <td>5.353923</td>\n",
       "      <td>0.038508</td>\n",
       "      <td>0.038508</td>\n",
       "    </tr>\n",
       "    <tr>\n",
       "      <td>3150</td>\n",
       "      <td>5.398900</td>\n",
       "      <td>5.336202</td>\n",
       "      <td>0.039722</td>\n",
       "      <td>0.039722</td>\n",
       "    </tr>\n",
       "    <tr>\n",
       "      <td>3300</td>\n",
       "      <td>5.398900</td>\n",
       "      <td>5.376575</td>\n",
       "      <td>0.039549</td>\n",
       "      <td>0.039549</td>\n",
       "    </tr>\n",
       "    <tr>\n",
       "      <td>3450</td>\n",
       "      <td>5.398900</td>\n",
       "      <td>5.299311</td>\n",
       "      <td>0.043365</td>\n",
       "      <td>0.043365</td>\n",
       "    </tr>\n",
       "    <tr>\n",
       "      <td>3600</td>\n",
       "      <td>5.221200</td>\n",
       "      <td>5.285232</td>\n",
       "      <td>0.041457</td>\n",
       "      <td>0.041457</td>\n",
       "    </tr>\n",
       "    <tr>\n",
       "      <td>3750</td>\n",
       "      <td>5.221200</td>\n",
       "      <td>5.230860</td>\n",
       "      <td>0.048569</td>\n",
       "      <td>0.048569</td>\n",
       "    </tr>\n",
       "    <tr>\n",
       "      <td>3900</td>\n",
       "      <td>5.221200</td>\n",
       "      <td>5.214623</td>\n",
       "      <td>0.049957</td>\n",
       "      <td>0.049957</td>\n",
       "    </tr>\n",
       "    <tr>\n",
       "      <td>4050</td>\n",
       "      <td>5.146600</td>\n",
       "      <td>5.187569</td>\n",
       "      <td>0.049089</td>\n",
       "      <td>0.049089</td>\n",
       "    </tr>\n",
       "    <tr>\n",
       "      <td>4200</td>\n",
       "      <td>5.146600</td>\n",
       "      <td>5.181749</td>\n",
       "      <td>0.047875</td>\n",
       "      <td>0.047875</td>\n",
       "    </tr>\n",
       "    <tr>\n",
       "      <td>4350</td>\n",
       "      <td>5.146600</td>\n",
       "      <td>5.165602</td>\n",
       "      <td>0.053946</td>\n",
       "      <td>0.053946</td>\n",
       "    </tr>\n",
       "    <tr>\n",
       "      <td>4500</td>\n",
       "      <td>5.082600</td>\n",
       "      <td>5.187837</td>\n",
       "      <td>0.053946</td>\n",
       "      <td>0.053946</td>\n",
       "    </tr>\n",
       "    <tr>\n",
       "      <td>4650</td>\n",
       "      <td>5.082600</td>\n",
       "      <td>5.116533</td>\n",
       "      <td>0.059324</td>\n",
       "      <td>0.059324</td>\n",
       "    </tr>\n",
       "    <tr>\n",
       "      <td>4800</td>\n",
       "      <td>5.082600</td>\n",
       "      <td>5.096270</td>\n",
       "      <td>0.059497</td>\n",
       "      <td>0.059497</td>\n",
       "    </tr>\n",
       "    <tr>\n",
       "      <td>4950</td>\n",
       "      <td>5.082600</td>\n",
       "      <td>5.077955</td>\n",
       "      <td>0.061925</td>\n",
       "      <td>0.061925</td>\n",
       "    </tr>\n",
       "    <tr>\n",
       "      <td>5100</td>\n",
       "      <td>5.051100</td>\n",
       "      <td>5.056589</td>\n",
       "      <td>0.063660</td>\n",
       "      <td>0.063660</td>\n",
       "    </tr>\n",
       "    <tr>\n",
       "      <td>5250</td>\n",
       "      <td>5.051100</td>\n",
       "      <td>5.040843</td>\n",
       "      <td>0.060191</td>\n",
       "      <td>0.060191</td>\n",
       "    </tr>\n",
       "    <tr>\n",
       "      <td>5400</td>\n",
       "      <td>5.051100</td>\n",
       "      <td>5.042296</td>\n",
       "      <td>0.065915</td>\n",
       "      <td>0.065915</td>\n",
       "    </tr>\n",
       "    <tr>\n",
       "      <td>5550</td>\n",
       "      <td>4.960100</td>\n",
       "      <td>5.027911</td>\n",
       "      <td>0.066435</td>\n",
       "      <td>0.066435</td>\n",
       "    </tr>\n",
       "    <tr>\n",
       "      <td>5700</td>\n",
       "      <td>4.960100</td>\n",
       "      <td>5.011287</td>\n",
       "      <td>0.063313</td>\n",
       "      <td>0.063313</td>\n",
       "    </tr>\n",
       "    <tr>\n",
       "      <td>5850</td>\n",
       "      <td>4.960100</td>\n",
       "      <td>4.976684</td>\n",
       "      <td>0.069384</td>\n",
       "      <td>0.069384</td>\n",
       "    </tr>\n",
       "    <tr>\n",
       "      <td>6000</td>\n",
       "      <td>4.742500</td>\n",
       "      <td>4.975326</td>\n",
       "      <td>0.068517</td>\n",
       "      <td>0.068517</td>\n",
       "    </tr>\n",
       "    <tr>\n",
       "      <td>6150</td>\n",
       "      <td>4.742500</td>\n",
       "      <td>4.980927</td>\n",
       "      <td>0.071986</td>\n",
       "      <td>0.071986</td>\n",
       "    </tr>\n",
       "    <tr>\n",
       "      <td>6300</td>\n",
       "      <td>4.742500</td>\n",
       "      <td>4.953285</td>\n",
       "      <td>0.074935</td>\n",
       "      <td>0.074935</td>\n",
       "    </tr>\n",
       "    <tr>\n",
       "      <td>6450</td>\n",
       "      <td>4.742500</td>\n",
       "      <td>4.957633</td>\n",
       "      <td>0.078057</td>\n",
       "      <td>0.078057</td>\n",
       "    </tr>\n",
       "    <tr>\n",
       "      <td>6600</td>\n",
       "      <td>4.573500</td>\n",
       "      <td>4.930074</td>\n",
       "      <td>0.078578</td>\n",
       "      <td>0.078578</td>\n",
       "    </tr>\n",
       "    <tr>\n",
       "      <td>6750</td>\n",
       "      <td>4.573500</td>\n",
       "      <td>4.931029</td>\n",
       "      <td>0.077884</td>\n",
       "      <td>0.077884</td>\n",
       "    </tr>\n",
       "    <tr>\n",
       "      <td>6900</td>\n",
       "      <td>4.573500</td>\n",
       "      <td>4.901105</td>\n",
       "      <td>0.081180</td>\n",
       "      <td>0.081180</td>\n",
       "    </tr>\n",
       "    <tr>\n",
       "      <td>7050</td>\n",
       "      <td>4.510100</td>\n",
       "      <td>4.901131</td>\n",
       "      <td>0.079618</td>\n",
       "      <td>0.079618</td>\n",
       "    </tr>\n",
       "    <tr>\n",
       "      <td>7200</td>\n",
       "      <td>4.510100</td>\n",
       "      <td>4.877712</td>\n",
       "      <td>0.082741</td>\n",
       "      <td>0.082741</td>\n",
       "    </tr>\n",
       "    <tr>\n",
       "      <td>7350</td>\n",
       "      <td>4.510100</td>\n",
       "      <td>4.874897</td>\n",
       "      <td>0.083608</td>\n",
       "      <td>0.083608</td>\n",
       "    </tr>\n",
       "    <tr>\n",
       "      <td>7500</td>\n",
       "      <td>4.482000</td>\n",
       "      <td>4.880074</td>\n",
       "      <td>0.083781</td>\n",
       "      <td>0.083781</td>\n",
       "    </tr>\n",
       "    <tr>\n",
       "      <td>7650</td>\n",
       "      <td>4.482000</td>\n",
       "      <td>4.858815</td>\n",
       "      <td>0.086904</td>\n",
       "      <td>0.086904</td>\n",
       "    </tr>\n",
       "    <tr>\n",
       "      <td>7800</td>\n",
       "      <td>4.482000</td>\n",
       "      <td>4.890073</td>\n",
       "      <td>0.083261</td>\n",
       "      <td>0.083261</td>\n",
       "    </tr>\n",
       "    <tr>\n",
       "      <td>7950</td>\n",
       "      <td>4.482000</td>\n",
       "      <td>4.838758</td>\n",
       "      <td>0.085516</td>\n",
       "      <td>0.085516</td>\n",
       "    </tr>\n",
       "    <tr>\n",
       "      <td>8100</td>\n",
       "      <td>4.424700</td>\n",
       "      <td>4.820649</td>\n",
       "      <td>0.087944</td>\n",
       "      <td>0.087944</td>\n",
       "    </tr>\n",
       "    <tr>\n",
       "      <td>8250</td>\n",
       "      <td>4.424700</td>\n",
       "      <td>4.822596</td>\n",
       "      <td>0.085863</td>\n",
       "      <td>0.085863</td>\n",
       "    </tr>\n",
       "    <tr>\n",
       "      <td>8400</td>\n",
       "      <td>4.424700</td>\n",
       "      <td>4.841508</td>\n",
       "      <td>0.088291</td>\n",
       "      <td>0.088291</td>\n",
       "    </tr>\n",
       "    <tr>\n",
       "      <td>8550</td>\n",
       "      <td>4.413400</td>\n",
       "      <td>4.808894</td>\n",
       "      <td>0.092454</td>\n",
       "      <td>0.092454</td>\n",
       "    </tr>\n",
       "    <tr>\n",
       "      <td>8700</td>\n",
       "      <td>4.413400</td>\n",
       "      <td>4.799455</td>\n",
       "      <td>0.092108</td>\n",
       "      <td>0.092108</td>\n",
       "    </tr>\n",
       "    <tr>\n",
       "      <td>8850</td>\n",
       "      <td>4.413400</td>\n",
       "      <td>4.834188</td>\n",
       "      <td>0.088985</td>\n",
       "      <td>0.088985</td>\n",
       "    </tr>\n",
       "    <tr>\n",
       "      <td>9000</td>\n",
       "      <td>4.138200</td>\n",
       "      <td>4.819652</td>\n",
       "      <td>0.087771</td>\n",
       "      <td>0.087771</td>\n",
       "    </tr>\n",
       "    <tr>\n",
       "      <td>9150</td>\n",
       "      <td>4.138200</td>\n",
       "      <td>4.811993</td>\n",
       "      <td>0.091761</td>\n",
       "      <td>0.091761</td>\n",
       "    </tr>\n",
       "    <tr>\n",
       "      <td>9300</td>\n",
       "      <td>4.138200</td>\n",
       "      <td>4.800436</td>\n",
       "      <td>0.092454</td>\n",
       "      <td>0.092454</td>\n",
       "    </tr>\n",
       "    <tr>\n",
       "      <td>9450</td>\n",
       "      <td>4.138200</td>\n",
       "      <td>4.809194</td>\n",
       "      <td>0.086557</td>\n",
       "      <td>0.086557</td>\n",
       "    </tr>\n",
       "    <tr>\n",
       "      <td>9600</td>\n",
       "      <td>3.994200</td>\n",
       "      <td>4.796690</td>\n",
       "      <td>0.091587</td>\n",
       "      <td>0.091587</td>\n",
       "    </tr>\n",
       "    <tr>\n",
       "      <td>9750</td>\n",
       "      <td>3.994200</td>\n",
       "      <td>4.784490</td>\n",
       "      <td>0.092108</td>\n",
       "      <td>0.092108</td>\n",
       "    </tr>\n",
       "    <tr>\n",
       "      <td>9900</td>\n",
       "      <td>3.994200</td>\n",
       "      <td>4.784707</td>\n",
       "      <td>0.093148</td>\n",
       "      <td>0.093148</td>\n",
       "    </tr>\n",
       "    <tr>\n",
       "      <td>10050</td>\n",
       "      <td>3.932900</td>\n",
       "      <td>4.791825</td>\n",
       "      <td>0.093322</td>\n",
       "      <td>0.093322</td>\n",
       "    </tr>\n",
       "    <tr>\n",
       "      <td>10200</td>\n",
       "      <td>3.932900</td>\n",
       "      <td>4.786873</td>\n",
       "      <td>0.098005</td>\n",
       "      <td>0.098005</td>\n",
       "    </tr>\n",
       "    <tr>\n",
       "      <td>10350</td>\n",
       "      <td>3.932900</td>\n",
       "      <td>4.772288</td>\n",
       "      <td>0.101648</td>\n",
       "      <td>0.101648</td>\n",
       "    </tr>\n",
       "    <tr>\n",
       "      <td>10500</td>\n",
       "      <td>3.897600</td>\n",
       "      <td>4.781100</td>\n",
       "      <td>0.098179</td>\n",
       "      <td>0.098179</td>\n",
       "    </tr>\n",
       "    <tr>\n",
       "      <td>10650</td>\n",
       "      <td>3.897600</td>\n",
       "      <td>4.758968</td>\n",
       "      <td>0.097658</td>\n",
       "      <td>0.097658</td>\n",
       "    </tr>\n",
       "    <tr>\n",
       "      <td>10800</td>\n",
       "      <td>3.897600</td>\n",
       "      <td>4.760144</td>\n",
       "      <td>0.099219</td>\n",
       "      <td>0.099219</td>\n",
       "    </tr>\n",
       "    <tr>\n",
       "      <td>10950</td>\n",
       "      <td>3.897600</td>\n",
       "      <td>4.757936</td>\n",
       "      <td>0.098699</td>\n",
       "      <td>0.098699</td>\n",
       "    </tr>\n",
       "    <tr>\n",
       "      <td>11100</td>\n",
       "      <td>3.889100</td>\n",
       "      <td>4.754658</td>\n",
       "      <td>0.102515</td>\n",
       "      <td>0.102515</td>\n",
       "    </tr>\n",
       "    <tr>\n",
       "      <td>11250</td>\n",
       "      <td>3.889100</td>\n",
       "      <td>4.745843</td>\n",
       "      <td>0.106331</td>\n",
       "      <td>0.106331</td>\n",
       "    </tr>\n",
       "    <tr>\n",
       "      <td>11400</td>\n",
       "      <td>3.889100</td>\n",
       "      <td>4.738885</td>\n",
       "      <td>0.102862</td>\n",
       "      <td>0.102862</td>\n",
       "    </tr>\n",
       "    <tr>\n",
       "      <td>11550</td>\n",
       "      <td>3.842400</td>\n",
       "      <td>4.738155</td>\n",
       "      <td>0.104597</td>\n",
       "      <td>0.104597</td>\n",
       "    </tr>\n",
       "    <tr>\n",
       "      <td>11700</td>\n",
       "      <td>3.842400</td>\n",
       "      <td>4.768741</td>\n",
       "      <td>0.099046</td>\n",
       "      <td>0.099046</td>\n",
       "    </tr>\n",
       "    <tr>\n",
       "      <td>11850</td>\n",
       "      <td>3.842400</td>\n",
       "      <td>4.770489</td>\n",
       "      <td>0.102515</td>\n",
       "      <td>0.102515</td>\n",
       "    </tr>\n",
       "    <tr>\n",
       "      <td>12000</td>\n",
       "      <td>3.573900</td>\n",
       "      <td>4.770754</td>\n",
       "      <td>0.100607</td>\n",
       "      <td>0.100607</td>\n",
       "    </tr>\n",
       "    <tr>\n",
       "      <td>12150</td>\n",
       "      <td>3.573900</td>\n",
       "      <td>4.768609</td>\n",
       "      <td>0.104250</td>\n",
       "      <td>0.104250</td>\n",
       "    </tr>\n",
       "    <tr>\n",
       "      <td>12300</td>\n",
       "      <td>3.573900</td>\n",
       "      <td>4.766862</td>\n",
       "      <td>0.104770</td>\n",
       "      <td>0.104770</td>\n",
       "    </tr>\n",
       "    <tr>\n",
       "      <td>12450</td>\n",
       "      <td>3.573900</td>\n",
       "      <td>4.762819</td>\n",
       "      <td>0.102689</td>\n",
       "      <td>0.102689</td>\n",
       "    </tr>\n",
       "    <tr>\n",
       "      <td>12600</td>\n",
       "      <td>3.511100</td>\n",
       "      <td>4.758420</td>\n",
       "      <td>0.104597</td>\n",
       "      <td>0.104597</td>\n",
       "    </tr>\n",
       "    <tr>\n",
       "      <td>12750</td>\n",
       "      <td>3.511100</td>\n",
       "      <td>4.761676</td>\n",
       "      <td>0.107199</td>\n",
       "      <td>0.107199</td>\n",
       "    </tr>\n",
       "    <tr>\n",
       "      <td>12900</td>\n",
       "      <td>3.511100</td>\n",
       "      <td>4.759284</td>\n",
       "      <td>0.105464</td>\n",
       "      <td>0.105464</td>\n",
       "    </tr>\n",
       "    <tr>\n",
       "      <td>13050</td>\n",
       "      <td>3.493300</td>\n",
       "      <td>4.752741</td>\n",
       "      <td>0.105117</td>\n",
       "      <td>0.105117</td>\n",
       "    </tr>\n",
       "    <tr>\n",
       "      <td>13200</td>\n",
       "      <td>3.493300</td>\n",
       "      <td>4.762883</td>\n",
       "      <td>0.105811</td>\n",
       "      <td>0.105811</td>\n",
       "    </tr>\n",
       "    <tr>\n",
       "      <td>13350</td>\n",
       "      <td>3.493300</td>\n",
       "      <td>4.753244</td>\n",
       "      <td>0.107372</td>\n",
       "      <td>0.107372</td>\n",
       "    </tr>\n",
       "    <tr>\n",
       "      <td>13500</td>\n",
       "      <td>3.501700</td>\n",
       "      <td>4.758836</td>\n",
       "      <td>0.106852</td>\n",
       "      <td>0.106852</td>\n",
       "    </tr>\n",
       "    <tr>\n",
       "      <td>13650</td>\n",
       "      <td>3.501700</td>\n",
       "      <td>4.755288</td>\n",
       "      <td>0.107025</td>\n",
       "      <td>0.107025</td>\n",
       "    </tr>\n",
       "    <tr>\n",
       "      <td>13800</td>\n",
       "      <td>3.501700</td>\n",
       "      <td>4.755525</td>\n",
       "      <td>0.109280</td>\n",
       "      <td>0.109280</td>\n",
       "    </tr>\n",
       "    <tr>\n",
       "      <td>13950</td>\n",
       "      <td>3.501700</td>\n",
       "      <td>4.755194</td>\n",
       "      <td>0.107199</td>\n",
       "      <td>0.107199</td>\n",
       "    </tr>\n",
       "    <tr>\n",
       "      <td>14100</td>\n",
       "      <td>3.459500</td>\n",
       "      <td>4.752297</td>\n",
       "      <td>0.108760</td>\n",
       "      <td>0.108760</td>\n",
       "    </tr>\n",
       "    <tr>\n",
       "      <td>14250</td>\n",
       "      <td>3.459500</td>\n",
       "      <td>4.751934</td>\n",
       "      <td>0.106331</td>\n",
       "      <td>0.106331</td>\n",
       "    </tr>\n",
       "    <tr>\n",
       "      <td>14400</td>\n",
       "      <td>3.459500</td>\n",
       "      <td>4.750504</td>\n",
       "      <td>0.108760</td>\n",
       "      <td>0.108760</td>\n",
       "    </tr>\n",
       "  </tbody>\n",
       "</table><p>"
      ],
      "text/plain": [
       "<IPython.core.display.HTML object>"
      ]
     },
     "metadata": {},
     "output_type": "display_data"
    },
    {
     "name": "stderr",
     "output_type": "stream",
     "text": [
      "***** Running Evaluation *****\n",
      "  Num examples = 5765\n",
      "  Batch size = 64\n",
      "***** Running Evaluation *****\n",
      "  Num examples = 5765\n",
      "  Batch size = 64\n",
      "***** Running Evaluation *****\n",
      "  Num examples = 5765\n",
      "  Batch size = 64\n",
      "Saving model checkpoint to /mount/studenten-temp1/users/knupi/teamlabs_model/checkpoint-500\n",
      "Configuration saved in /mount/studenten-temp1/users/knupi/teamlabs_model/checkpoint-500/config.json\n",
      "Model weights saved in /mount/studenten-temp1/users/knupi/teamlabs_model/checkpoint-500/pytorch_model.bin\n",
      "***** Running Evaluation *****\n",
      "  Num examples = 5765\n",
      "  Batch size = 64\n",
      "***** Running Evaluation *****\n",
      "  Num examples = 5765\n",
      "  Batch size = 64\n",
      "***** Running Evaluation *****\n",
      "  Num examples = 5765\n",
      "  Batch size = 64\n",
      "Saving model checkpoint to /mount/studenten-temp1/users/knupi/teamlabs_model/checkpoint-1000\n",
      "Configuration saved in /mount/studenten-temp1/users/knupi/teamlabs_model/checkpoint-1000/config.json\n",
      "Model weights saved in /mount/studenten-temp1/users/knupi/teamlabs_model/checkpoint-1000/pytorch_model.bin\n",
      "***** Running Evaluation *****\n",
      "  Num examples = 5765\n",
      "  Batch size = 64\n",
      "***** Running Evaluation *****\n",
      "  Num examples = 5765\n",
      "  Batch size = 64\n",
      "***** Running Evaluation *****\n",
      "  Num examples = 5765\n",
      "  Batch size = 64\n",
      "***** Running Evaluation *****\n",
      "  Num examples = 5765\n",
      "  Batch size = 64\n",
      "Saving model checkpoint to /mount/studenten-temp1/users/knupi/teamlabs_model/checkpoint-1500\n",
      "Configuration saved in /mount/studenten-temp1/users/knupi/teamlabs_model/checkpoint-1500/config.json\n",
      "Model weights saved in /mount/studenten-temp1/users/knupi/teamlabs_model/checkpoint-1500/pytorch_model.bin\n",
      "***** Running Evaluation *****\n",
      "  Num examples = 5765\n",
      "  Batch size = 64\n",
      "***** Running Evaluation *****\n",
      "  Num examples = 5765\n",
      "  Batch size = 64\n",
      "***** Running Evaluation *****\n",
      "  Num examples = 5765\n",
      "  Batch size = 64\n",
      "Saving model checkpoint to /mount/studenten-temp1/users/knupi/teamlabs_model/checkpoint-2000\n",
      "Configuration saved in /mount/studenten-temp1/users/knupi/teamlabs_model/checkpoint-2000/config.json\n",
      "Model weights saved in /mount/studenten-temp1/users/knupi/teamlabs_model/checkpoint-2000/pytorch_model.bin\n",
      "***** Running Evaluation *****\n",
      "  Num examples = 5765\n",
      "  Batch size = 64\n",
      "***** Running Evaluation *****\n",
      "  Num examples = 5765\n",
      "  Batch size = 64\n",
      "***** Running Evaluation *****\n",
      "  Num examples = 5765\n",
      "  Batch size = 64\n",
      "Saving model checkpoint to /mount/studenten-temp1/users/knupi/teamlabs_model/checkpoint-2500\n",
      "Configuration saved in /mount/studenten-temp1/users/knupi/teamlabs_model/checkpoint-2500/config.json\n",
      "Model weights saved in /mount/studenten-temp1/users/knupi/teamlabs_model/checkpoint-2500/pytorch_model.bin\n",
      "***** Running Evaluation *****\n",
      "  Num examples = 5765\n",
      "  Batch size = 64\n",
      "***** Running Evaluation *****\n",
      "  Num examples = 5765\n",
      "  Batch size = 64\n",
      "***** Running Evaluation *****\n",
      "  Num examples = 5765\n",
      "  Batch size = 64\n",
      "***** Running Evaluation *****\n",
      "  Num examples = 5765\n",
      "  Batch size = 64\n",
      "Saving model checkpoint to /mount/studenten-temp1/users/knupi/teamlabs_model/checkpoint-3000\n",
      "Configuration saved in /mount/studenten-temp1/users/knupi/teamlabs_model/checkpoint-3000/config.json\n",
      "Model weights saved in /mount/studenten-temp1/users/knupi/teamlabs_model/checkpoint-3000/pytorch_model.bin\n",
      "***** Running Evaluation *****\n",
      "  Num examples = 5765\n",
      "  Batch size = 64\n",
      "***** Running Evaluation *****\n",
      "  Num examples = 5765\n",
      "  Batch size = 64\n",
      "***** Running Evaluation *****\n",
      "  Num examples = 5765\n",
      "  Batch size = 64\n",
      "Saving model checkpoint to /mount/studenten-temp1/users/knupi/teamlabs_model/checkpoint-3500\n",
      "Configuration saved in /mount/studenten-temp1/users/knupi/teamlabs_model/checkpoint-3500/config.json\n",
      "Model weights saved in /mount/studenten-temp1/users/knupi/teamlabs_model/checkpoint-3500/pytorch_model.bin\n",
      "***** Running Evaluation *****\n",
      "  Num examples = 5765\n",
      "  Batch size = 64\n",
      "***** Running Evaluation *****\n",
      "  Num examples = 5765\n",
      "  Batch size = 64\n",
      "***** Running Evaluation *****\n",
      "  Num examples = 5765\n",
      "  Batch size = 64\n",
      "Saving model checkpoint to /mount/studenten-temp1/users/knupi/teamlabs_model/checkpoint-4000\n",
      "Configuration saved in /mount/studenten-temp1/users/knupi/teamlabs_model/checkpoint-4000/config.json\n",
      "Model weights saved in /mount/studenten-temp1/users/knupi/teamlabs_model/checkpoint-4000/pytorch_model.bin\n",
      "***** Running Evaluation *****\n",
      "  Num examples = 5765\n",
      "  Batch size = 64\n",
      "***** Running Evaluation *****\n",
      "  Num examples = 5765\n",
      "  Batch size = 64\n",
      "***** Running Evaluation *****\n",
      "  Num examples = 5765\n",
      "  Batch size = 64\n",
      "***** Running Evaluation *****\n",
      "  Num examples = 5765\n",
      "  Batch size = 64\n",
      "Saving model checkpoint to /mount/studenten-temp1/users/knupi/teamlabs_model/checkpoint-4500\n",
      "Configuration saved in /mount/studenten-temp1/users/knupi/teamlabs_model/checkpoint-4500/config.json\n",
      "Model weights saved in /mount/studenten-temp1/users/knupi/teamlabs_model/checkpoint-4500/pytorch_model.bin\n",
      "***** Running Evaluation *****\n",
      "  Num examples = 5765\n",
      "  Batch size = 64\n",
      "***** Running Evaluation *****\n",
      "  Num examples = 5765\n",
      "  Batch size = 64\n",
      "***** Running Evaluation *****\n",
      "  Num examples = 5765\n",
      "  Batch size = 64\n",
      "Saving model checkpoint to /mount/studenten-temp1/users/knupi/teamlabs_model/checkpoint-5000\n",
      "Configuration saved in /mount/studenten-temp1/users/knupi/teamlabs_model/checkpoint-5000/config.json\n",
      "Model weights saved in /mount/studenten-temp1/users/knupi/teamlabs_model/checkpoint-5000/pytorch_model.bin\n",
      "***** Running Evaluation *****\n",
      "  Num examples = 5765\n",
      "  Batch size = 64\n",
      "***** Running Evaluation *****\n",
      "  Num examples = 5765\n",
      "  Batch size = 64\n",
      "***** Running Evaluation *****\n",
      "  Num examples = 5765\n",
      "  Batch size = 64\n",
      "Saving model checkpoint to /mount/studenten-temp1/users/knupi/teamlabs_model/checkpoint-5500\n",
      "Configuration saved in /mount/studenten-temp1/users/knupi/teamlabs_model/checkpoint-5500/config.json\n",
      "Model weights saved in /mount/studenten-temp1/users/knupi/teamlabs_model/checkpoint-5500/pytorch_model.bin\n",
      "***** Running Evaluation *****\n",
      "  Num examples = 5765\n",
      "  Batch size = 64\n",
      "***** Running Evaluation *****\n",
      "  Num examples = 5765\n",
      "  Batch size = 64\n",
      "***** Running Evaluation *****\n",
      "  Num examples = 5765\n",
      "  Batch size = 64\n",
      "***** Running Evaluation *****\n",
      "  Num examples = 5765\n",
      "  Batch size = 64\n",
      "Saving model checkpoint to /mount/studenten-temp1/users/knupi/teamlabs_model/checkpoint-6000\n",
      "Configuration saved in /mount/studenten-temp1/users/knupi/teamlabs_model/checkpoint-6000/config.json\n",
      "Model weights saved in /mount/studenten-temp1/users/knupi/teamlabs_model/checkpoint-6000/pytorch_model.bin\n",
      "***** Running Evaluation *****\n",
      "  Num examples = 5765\n",
      "  Batch size = 64\n",
      "***** Running Evaluation *****\n",
      "  Num examples = 5765\n",
      "  Batch size = 64\n",
      "***** Running Evaluation *****\n",
      "  Num examples = 5765\n",
      "  Batch size = 64\n",
      "Saving model checkpoint to /mount/studenten-temp1/users/knupi/teamlabs_model/checkpoint-6500\n",
      "Configuration saved in /mount/studenten-temp1/users/knupi/teamlabs_model/checkpoint-6500/config.json\n",
      "Model weights saved in /mount/studenten-temp1/users/knupi/teamlabs_model/checkpoint-6500/pytorch_model.bin\n",
      "***** Running Evaluation *****\n",
      "  Num examples = 5765\n",
      "  Batch size = 64\n",
      "***** Running Evaluation *****\n",
      "  Num examples = 5765\n",
      "  Batch size = 64\n",
      "***** Running Evaluation *****\n",
      "  Num examples = 5765\n",
      "  Batch size = 64\n",
      "Saving model checkpoint to /mount/studenten-temp1/users/knupi/teamlabs_model/checkpoint-7000\n",
      "Configuration saved in /mount/studenten-temp1/users/knupi/teamlabs_model/checkpoint-7000/config.json\n",
      "Model weights saved in /mount/studenten-temp1/users/knupi/teamlabs_model/checkpoint-7000/pytorch_model.bin\n",
      "***** Running Evaluation *****\n",
      "  Num examples = 5765\n",
      "  Batch size = 64\n",
      "***** Running Evaluation *****\n",
      "  Num examples = 5765\n",
      "  Batch size = 64\n",
      "***** Running Evaluation *****\n",
      "  Num examples = 5765\n",
      "  Batch size = 64\n",
      "***** Running Evaluation *****\n",
      "  Num examples = 5765\n",
      "  Batch size = 64\n",
      "Saving model checkpoint to /mount/studenten-temp1/users/knupi/teamlabs_model/checkpoint-7500\n",
      "Configuration saved in /mount/studenten-temp1/users/knupi/teamlabs_model/checkpoint-7500/config.json\n",
      "Model weights saved in /mount/studenten-temp1/users/knupi/teamlabs_model/checkpoint-7500/pytorch_model.bin\n",
      "***** Running Evaluation *****\n",
      "  Num examples = 5765\n",
      "  Batch size = 64\n",
      "***** Running Evaluation *****\n",
      "  Num examples = 5765\n",
      "  Batch size = 64\n"
     ]
    },
    {
     "name": "stderr",
     "output_type": "stream",
     "text": [
      "***** Running Evaluation *****\n",
      "  Num examples = 5765\n",
      "  Batch size = 64\n",
      "Saving model checkpoint to /mount/studenten-temp1/users/knupi/teamlabs_model/checkpoint-8000\n",
      "Configuration saved in /mount/studenten-temp1/users/knupi/teamlabs_model/checkpoint-8000/config.json\n",
      "Model weights saved in /mount/studenten-temp1/users/knupi/teamlabs_model/checkpoint-8000/pytorch_model.bin\n",
      "***** Running Evaluation *****\n",
      "  Num examples = 5765\n",
      "  Batch size = 64\n",
      "***** Running Evaluation *****\n",
      "  Num examples = 5765\n",
      "  Batch size = 64\n",
      "***** Running Evaluation *****\n",
      "  Num examples = 5765\n",
      "  Batch size = 64\n",
      "Saving model checkpoint to /mount/studenten-temp1/users/knupi/teamlabs_model/checkpoint-8500\n",
      "Configuration saved in /mount/studenten-temp1/users/knupi/teamlabs_model/checkpoint-8500/config.json\n",
      "Model weights saved in /mount/studenten-temp1/users/knupi/teamlabs_model/checkpoint-8500/pytorch_model.bin\n",
      "***** Running Evaluation *****\n",
      "  Num examples = 5765\n",
      "  Batch size = 64\n",
      "***** Running Evaluation *****\n",
      "  Num examples = 5765\n",
      "  Batch size = 64\n",
      "***** Running Evaluation *****\n",
      "  Num examples = 5765\n",
      "  Batch size = 64\n",
      "***** Running Evaluation *****\n",
      "  Num examples = 5765\n",
      "  Batch size = 64\n",
      "Saving model checkpoint to /mount/studenten-temp1/users/knupi/teamlabs_model/checkpoint-9000\n",
      "Configuration saved in /mount/studenten-temp1/users/knupi/teamlabs_model/checkpoint-9000/config.json\n",
      "Model weights saved in /mount/studenten-temp1/users/knupi/teamlabs_model/checkpoint-9000/pytorch_model.bin\n",
      "***** Running Evaluation *****\n",
      "  Num examples = 5765\n",
      "  Batch size = 64\n",
      "***** Running Evaluation *****\n",
      "  Num examples = 5765\n",
      "  Batch size = 64\n",
      "***** Running Evaluation *****\n",
      "  Num examples = 5765\n",
      "  Batch size = 64\n",
      "Saving model checkpoint to /mount/studenten-temp1/users/knupi/teamlabs_model/checkpoint-9500\n",
      "Configuration saved in /mount/studenten-temp1/users/knupi/teamlabs_model/checkpoint-9500/config.json\n",
      "Model weights saved in /mount/studenten-temp1/users/knupi/teamlabs_model/checkpoint-9500/pytorch_model.bin\n",
      "***** Running Evaluation *****\n",
      "  Num examples = 5765\n",
      "  Batch size = 64\n",
      "***** Running Evaluation *****\n",
      "  Num examples = 5765\n",
      "  Batch size = 64\n",
      "***** Running Evaluation *****\n",
      "  Num examples = 5765\n",
      "  Batch size = 64\n",
      "Saving model checkpoint to /mount/studenten-temp1/users/knupi/teamlabs_model/checkpoint-10000\n",
      "Configuration saved in /mount/studenten-temp1/users/knupi/teamlabs_model/checkpoint-10000/config.json\n",
      "Model weights saved in /mount/studenten-temp1/users/knupi/teamlabs_model/checkpoint-10000/pytorch_model.bin\n",
      "***** Running Evaluation *****\n",
      "  Num examples = 5765\n",
      "  Batch size = 64\n",
      "***** Running Evaluation *****\n",
      "  Num examples = 5765\n",
      "  Batch size = 64\n",
      "***** Running Evaluation *****\n",
      "  Num examples = 5765\n",
      "  Batch size = 64\n",
      "***** Running Evaluation *****\n",
      "  Num examples = 5765\n",
      "  Batch size = 64\n",
      "Saving model checkpoint to /mount/studenten-temp1/users/knupi/teamlabs_model/checkpoint-10500\n",
      "Configuration saved in /mount/studenten-temp1/users/knupi/teamlabs_model/checkpoint-10500/config.json\n",
      "Model weights saved in /mount/studenten-temp1/users/knupi/teamlabs_model/checkpoint-10500/pytorch_model.bin\n",
      "***** Running Evaluation *****\n",
      "  Num examples = 5765\n",
      "  Batch size = 64\n",
      "***** Running Evaluation *****\n",
      "  Num examples = 5765\n",
      "  Batch size = 64\n",
      "***** Running Evaluation *****\n",
      "  Num examples = 5765\n",
      "  Batch size = 64\n",
      "Saving model checkpoint to /mount/studenten-temp1/users/knupi/teamlabs_model/checkpoint-11000\n",
      "Configuration saved in /mount/studenten-temp1/users/knupi/teamlabs_model/checkpoint-11000/config.json\n",
      "Model weights saved in /mount/studenten-temp1/users/knupi/teamlabs_model/checkpoint-11000/pytorch_model.bin\n",
      "***** Running Evaluation *****\n",
      "  Num examples = 5765\n",
      "  Batch size = 64\n",
      "***** Running Evaluation *****\n",
      "  Num examples = 5765\n",
      "  Batch size = 64\n",
      "***** Running Evaluation *****\n",
      "  Num examples = 5765\n",
      "  Batch size = 64\n",
      "Saving model checkpoint to /mount/studenten-temp1/users/knupi/teamlabs_model/checkpoint-11500\n",
      "Configuration saved in /mount/studenten-temp1/users/knupi/teamlabs_model/checkpoint-11500/config.json\n",
      "Model weights saved in /mount/studenten-temp1/users/knupi/teamlabs_model/checkpoint-11500/pytorch_model.bin\n",
      "***** Running Evaluation *****\n",
      "  Num examples = 5765\n",
      "  Batch size = 64\n",
      "***** Running Evaluation *****\n",
      "  Num examples = 5765\n",
      "  Batch size = 64\n",
      "***** Running Evaluation *****\n",
      "  Num examples = 5765\n",
      "  Batch size = 64\n",
      "***** Running Evaluation *****\n",
      "  Num examples = 5765\n",
      "  Batch size = 64\n",
      "Saving model checkpoint to /mount/studenten-temp1/users/knupi/teamlabs_model/checkpoint-12000\n",
      "Configuration saved in /mount/studenten-temp1/users/knupi/teamlabs_model/checkpoint-12000/config.json\n",
      "Model weights saved in /mount/studenten-temp1/users/knupi/teamlabs_model/checkpoint-12000/pytorch_model.bin\n",
      "***** Running Evaluation *****\n",
      "  Num examples = 5765\n",
      "  Batch size = 64\n",
      "***** Running Evaluation *****\n",
      "  Num examples = 5765\n",
      "  Batch size = 64\n",
      "***** Running Evaluation *****\n",
      "  Num examples = 5765\n",
      "  Batch size = 64\n",
      "Saving model checkpoint to /mount/studenten-temp1/users/knupi/teamlabs_model/checkpoint-12500\n",
      "Configuration saved in /mount/studenten-temp1/users/knupi/teamlabs_model/checkpoint-12500/config.json\n",
      "Model weights saved in /mount/studenten-temp1/users/knupi/teamlabs_model/checkpoint-12500/pytorch_model.bin\n",
      "***** Running Evaluation *****\n",
      "  Num examples = 5765\n",
      "  Batch size = 64\n",
      "***** Running Evaluation *****\n",
      "  Num examples = 5765\n",
      "  Batch size = 64\n",
      "***** Running Evaluation *****\n",
      "  Num examples = 5765\n",
      "  Batch size = 64\n",
      "Saving model checkpoint to /mount/studenten-temp1/users/knupi/teamlabs_model/checkpoint-13000\n",
      "Configuration saved in /mount/studenten-temp1/users/knupi/teamlabs_model/checkpoint-13000/config.json\n",
      "Model weights saved in /mount/studenten-temp1/users/knupi/teamlabs_model/checkpoint-13000/pytorch_model.bin\n",
      "***** Running Evaluation *****\n",
      "  Num examples = 5765\n",
      "  Batch size = 64\n",
      "***** Running Evaluation *****\n",
      "  Num examples = 5765\n",
      "  Batch size = 64\n",
      "***** Running Evaluation *****\n",
      "  Num examples = 5765\n",
      "  Batch size = 64\n",
      "***** Running Evaluation *****\n",
      "  Num examples = 5765\n",
      "  Batch size = 64\n",
      "Saving model checkpoint to /mount/studenten-temp1/users/knupi/teamlabs_model/checkpoint-13500\n",
      "Configuration saved in /mount/studenten-temp1/users/knupi/teamlabs_model/checkpoint-13500/config.json\n",
      "Model weights saved in /mount/studenten-temp1/users/knupi/teamlabs_model/checkpoint-13500/pytorch_model.bin\n",
      "***** Running Evaluation *****\n",
      "  Num examples = 5765\n",
      "  Batch size = 64\n",
      "***** Running Evaluation *****\n",
      "  Num examples = 5765\n",
      "  Batch size = 64\n",
      "***** Running Evaluation *****\n",
      "  Num examples = 5765\n",
      "  Batch size = 64\n",
      "Saving model checkpoint to /mount/studenten-temp1/users/knupi/teamlabs_model/checkpoint-14000\n",
      "Configuration saved in /mount/studenten-temp1/users/knupi/teamlabs_model/checkpoint-14000/config.json\n",
      "Model weights saved in /mount/studenten-temp1/users/knupi/teamlabs_model/checkpoint-14000/pytorch_model.bin\n",
      "***** Running Evaluation *****\n",
      "  Num examples = 5765\n",
      "  Batch size = 64\n",
      "***** Running Evaluation *****\n",
      "  Num examples = 5765\n",
      "  Batch size = 64\n",
      "***** Running Evaluation *****\n",
      "  Num examples = 5765\n",
      "  Batch size = 64\n",
      "\n",
      "\n",
      "Training completed. Do not forget to share your model on huggingface.co/models =)\n",
      "\n",
      "\n"
     ]
    },
    {
     "data": {
      "text/plain": [
       "TrainOutput(global_step=14415, training_loss=4.554168419601435, metrics={'train_runtime': 18956.7237, 'train_samples_per_second': 12.165, 'train_steps_per_second': 0.76, 'total_flos': 6.10226018469888e+16, 'train_loss': 4.554168419601435, 'epoch': 5.0})"
      ]
     },
     "execution_count": 15,
     "metadata": {},
     "output_type": "execute_result"
    }
   ],
   "source": [
    "trainer.train()"
   ]
  },
  {
   "cell_type": "code",
   "execution_count": 17,
   "metadata": {
    "vscode": {
     "languageId": "python"
    }
   },
   "outputs": [
    {
     "name": "stderr",
     "output_type": "stream",
     "text": [
      "***** Running Evaluation *****\n",
      "  Num examples = 5765\n",
      "  Batch size = 64\n"
     ]
    },
    {
     "data": {
      "text/plain": [
       "{'eval_loss': 4.75047492980957,\n",
       " 'eval_accuracy': 0.10893321769297484,\n",
       " 'eval_f1': 0.10893321769297484,\n",
       " 'eval_runtime': 70.3119,\n",
       " 'eval_samples_per_second': 81.992,\n",
       " 'eval_steps_per_second': 1.294,\n",
       " 'epoch': 5.0}"
      ]
     },
     "execution_count": 17,
     "metadata": {},
     "output_type": "execute_result"
    }
   ],
   "source": [
    "trainer.evaluate()"
   ]
  },
  {
   "cell_type": "markdown",
   "metadata": {},
   "source": [
    "## Use fine-tuned BERT to transform lyrics into embeddings\n",
    "Now that we have fine-tuned the BERT model on artist classification, we're again going to be using its embeddings for kNN classification."
   ]
  },
  {
   "cell_type": "markdown",
   "metadata": {},
   "source": []
  },
  {
   "cell_type": "code",
   "execution_count": 27,
   "metadata": {
    "vscode": {
     "languageId": "python"
    }
   },
   "outputs": [],
   "source": [
    "import os\n",
    "os.environ['TRANSFORMERS_CACHE'] = cache_folder"
   ]
  },
  {
   "cell_type": "code",
   "execution_count": 28,
   "metadata": {
    "vscode": {
     "languageId": "python"
    }
   },
   "outputs": [
    {
     "name": "stderr",
     "output_type": "stream",
     "text": [
      "Using custom data configuration default-326223662ac9146d\n",
      "Reusing dataset csv (/mount/studenten-temp1/users/knupi/.cache/huggingface/csv/default-326223662ac9146d/0.0.0/51cce309a08df9c4d82ffd9363bbe090bf173197fc01a71b034e8594995a1a58)\n"
     ]
    },
    {
     "data": {
      "application/vnd.jupyter.widget-view+json": {
       "model_id": "c0924f33b46a460fbcdd28ed7cdcd540",
       "version_major": 2,
       "version_minor": 0
      },
      "text/plain": [
       "  0%|          | 0/3 [00:00<?, ?it/s]"
      ]
     },
     "metadata": {},
     "output_type": "display_data"
    }
   ],
   "source": [
    "from datasets import load_dataset\n",
    "\n",
    "dataset_folder = '../data/'\n",
    "\n",
    "dataset = load_dataset('csv',\n",
    "                     data_files={\n",
    "                        'train': dataset_folder + 'songs_train.txt',\n",
    "                        'test': dataset_folder + 'songs_test.txt',\n",
    "                        'dev': dataset_folder + 'songs_dev.txt',\n",
    "                     },\n",
    "                     column_names=['artist', 'title', 'lyrics'],\n",
    "                     sep='\\t')"
   ]
  },
  {
   "cell_type": "code",
   "execution_count": 29,
   "metadata": {
    "vscode": {
     "languageId": "python"
    }
   },
   "outputs": [],
   "source": [
    "from datasets import ClassLabel\n",
    "\n",
    "if len(dataset) == 3:\n",
    "    union_artists = set(dataset['train']['artist']) | set(dataset['test']['artist']) | set(dataset['dev']['artist'])\n",
    "else:\n",
    "    union_artists = set(dataset['artist'])\n",
    "\n",
    "artists = ClassLabel(names=list(union_artists))"
   ]
  },
  {
   "cell_type": "code",
   "execution_count": 30,
   "metadata": {
    "vscode": {
     "languageId": "python"
    }
   },
   "outputs": [
    {
     "name": "stderr",
     "output_type": "stream",
     "text": [
      "Some weights of the model checkpoint at /mount/studenten-temp1/users/knupleun/artist-classification/teamlabs_model/finetuned-bert-artist were not used when initializing BertModel: ['classifier.weight', 'classifier.bias']\n",
      "- This IS expected if you are initializing BertModel from the checkpoint of a model trained on another task or with another architecture (e.g. initializing a BertForSequenceClassification model from a BertForPreTraining model).\n",
      "- This IS NOT expected if you are initializing BertModel from the checkpoint of a model that you expect to be exactly identical (initializing a BertForSequenceClassification model from a BertForSequenceClassification model).\n"
     ]
    }
   ],
   "source": [
    "from transformers import AutoTokenizer, AutoModel\n",
    "\n",
    "model_name = \"bert-base-uncased\"\n",
    "model_path = \"/mount/studenten-temp1/users/knupleun/artist-classification/teamlabs_model/finetuned-bert-artist\"\n",
    "\n",
    "tokenizer = AutoTokenizer.from_pretrained(model_name)\n",
    "model =  AutoModel.from_pretrained(model_path)"
   ]
  },
  {
   "cell_type": "code",
   "execution_count": 31,
   "metadata": {
    "vscode": {
     "languageId": "python"
    }
   },
   "outputs": [],
   "source": [
    "def add_sentence_special_token(example):\n",
    "    example['lyrics'] = example['lyrics'].replace(' NEWLINE ', ' [SEP] ')\n",
    "\n",
    "    return example"
   ]
  },
  {
   "cell_type": "code",
   "execution_count": 32,
   "metadata": {
    "vscode": {
     "languageId": "python"
    }
   },
   "outputs": [],
   "source": [
    "from transformers import FeatureExtractionPipeline\n",
    "\n",
    "feature_extract_pipeline = FeatureExtractionPipeline(model=model, tokenizer=tokenizer, framework='pt',  device=1)\n",
    "\n",
    "def get_embeddings(dataset):\n",
    "    dataset = dataset.map(add_sentence_special_token)\n",
    "\n",
    "    embeddings = []\n",
    "    labels = artists.str2int(dataset['artist'])\n",
    "\n",
    "    pipe = feature_extract_pipeline(KeyDataset(dataset, 'lyrics'), batch_size=32, truncation=True)\n",
    "\n",
    "    for embedding in tqdm(pipe, total=len(dataset)):\n",
    "        clr_embedding = embedding[0][0]\n",
    "\n",
    "        embeddings.append(clr_embedding)\n",
    "\n",
    "    return embeddings, labels"
   ]
  },
  {
   "cell_type": "code",
   "execution_count": 33,
   "metadata": {
    "vscode": {
     "languageId": "python"
    }
   },
   "outputs": [
    {
     "data": {
      "application/vnd.jupyter.widget-view+json": {
       "model_id": "eaf1bcd2853b4fe88107e4916738d082",
       "version_major": 2,
       "version_minor": 0
      },
      "text/plain": [
       "  0%|          | 0/10000 [00:00<?, ?ex/s]"
      ]
     },
     "metadata": {},
     "output_type": "display_data"
    },
    {
     "data": {
      "application/vnd.jupyter.widget-view+json": {
       "model_id": "7cf2061e2f524e048796c2d590a98027",
       "version_major": 2,
       "version_minor": 0
      },
      "text/plain": [
       "  0%|          | 0/10000 [00:00<?, ?it/s]"
      ]
     },
     "metadata": {},
     "output_type": "display_data"
    }
   ],
   "source": [
    "train_num_examples = 10000\n",
    "train_examples = dataset['train'].select(range(train_num_examples))\n",
    "\n",
    "train_embeddings, train_labels = get_embeddings(train_examples)"
   ]
  },
  {
   "cell_type": "code",
   "execution_count": 34,
   "metadata": {
    "vscode": {
     "languageId": "python"
    }
   },
   "outputs": [
    {
     "data": {
      "text/html": [
       "<style>#sk-container-id-4 {color: black;background-color: white;}#sk-container-id-4 pre{padding: 0;}#sk-container-id-4 div.sk-toggleable {background-color: white;}#sk-container-id-4 label.sk-toggleable__label {cursor: pointer;display: block;width: 100%;margin-bottom: 0;padding: 0.3em;box-sizing: border-box;text-align: center;}#sk-container-id-4 label.sk-toggleable__label-arrow:before {content: \"▸\";float: left;margin-right: 0.25em;color: #696969;}#sk-container-id-4 label.sk-toggleable__label-arrow:hover:before {color: black;}#sk-container-id-4 div.sk-estimator:hover label.sk-toggleable__label-arrow:before {color: black;}#sk-container-id-4 div.sk-toggleable__content {max-height: 0;max-width: 0;overflow: hidden;text-align: left;background-color: #f0f8ff;}#sk-container-id-4 div.sk-toggleable__content pre {margin: 0.2em;color: black;border-radius: 0.25em;background-color: #f0f8ff;}#sk-container-id-4 input.sk-toggleable__control:checked~div.sk-toggleable__content {max-height: 200px;max-width: 100%;overflow: auto;}#sk-container-id-4 input.sk-toggleable__control:checked~label.sk-toggleable__label-arrow:before {content: \"▾\";}#sk-container-id-4 div.sk-estimator input.sk-toggleable__control:checked~label.sk-toggleable__label {background-color: #d4ebff;}#sk-container-id-4 div.sk-label input.sk-toggleable__control:checked~label.sk-toggleable__label {background-color: #d4ebff;}#sk-container-id-4 input.sk-hidden--visually {border: 0;clip: rect(1px 1px 1px 1px);clip: rect(1px, 1px, 1px, 1px);height: 1px;margin: -1px;overflow: hidden;padding: 0;position: absolute;width: 1px;}#sk-container-id-4 div.sk-estimator {font-family: monospace;background-color: #f0f8ff;border: 1px dotted black;border-radius: 0.25em;box-sizing: border-box;margin-bottom: 0.5em;}#sk-container-id-4 div.sk-estimator:hover {background-color: #d4ebff;}#sk-container-id-4 div.sk-parallel-item::after {content: \"\";width: 100%;border-bottom: 1px solid gray;flex-grow: 1;}#sk-container-id-4 div.sk-label:hover label.sk-toggleable__label {background-color: #d4ebff;}#sk-container-id-4 div.sk-serial::before {content: \"\";position: absolute;border-left: 1px solid gray;box-sizing: border-box;top: 0;bottom: 0;left: 50%;z-index: 0;}#sk-container-id-4 div.sk-serial {display: flex;flex-direction: column;align-items: center;background-color: white;padding-right: 0.2em;padding-left: 0.2em;position: relative;}#sk-container-id-4 div.sk-item {position: relative;z-index: 1;}#sk-container-id-4 div.sk-parallel {display: flex;align-items: stretch;justify-content: center;background-color: white;position: relative;}#sk-container-id-4 div.sk-item::before, #sk-container-id-4 div.sk-parallel-item::before {content: \"\";position: absolute;border-left: 1px solid gray;box-sizing: border-box;top: 0;bottom: 0;left: 50%;z-index: -1;}#sk-container-id-4 div.sk-parallel-item {display: flex;flex-direction: column;z-index: 1;position: relative;background-color: white;}#sk-container-id-4 div.sk-parallel-item:first-child::after {align-self: flex-end;width: 50%;}#sk-container-id-4 div.sk-parallel-item:last-child::after {align-self: flex-start;width: 50%;}#sk-container-id-4 div.sk-parallel-item:only-child::after {width: 0;}#sk-container-id-4 div.sk-dashed-wrapped {border: 1px dashed gray;margin: 0 0.4em 0.5em 0.4em;box-sizing: border-box;padding-bottom: 0.4em;background-color: white;}#sk-container-id-4 div.sk-label label {font-family: monospace;font-weight: bold;display: inline-block;line-height: 1.2em;}#sk-container-id-4 div.sk-label-container {text-align: center;}#sk-container-id-4 div.sk-container {/* jupyter's `normalize.less` sets `[hidden] { display: none; }` but bootstrap.min.css set `[hidden] { display: none !important; }` so we also need the `!important` here to be able to override the default hidden behavior on the sphinx rendered scikit-learn.org. See: https://github.com/scikit-learn/scikit-learn/issues/21755 */display: inline-block !important;position: relative;}#sk-container-id-4 div.sk-text-repr-fallback {display: none;}</style><div id=\"sk-container-id-4\" class=\"sk-top-container\"><div class=\"sk-text-repr-fallback\"><pre>KNeighborsClassifier(weights=&#x27;distance&#x27;)</pre><b>In a Jupyter environment, please rerun this cell to show the HTML representation or trust the notebook. <br />On GitHub, the HTML representation is unable to render, please try loading this page with nbviewer.org.</b></div><div class=\"sk-container\" hidden><div class=\"sk-item\"><div class=\"sk-estimator sk-toggleable\"><input class=\"sk-toggleable__control sk-hidden--visually\" id=\"sk-estimator-id-4\" type=\"checkbox\" checked><label for=\"sk-estimator-id-4\" class=\"sk-toggleable__label sk-toggleable__label-arrow\">KNeighborsClassifier</label><div class=\"sk-toggleable__content\"><pre>KNeighborsClassifier(weights=&#x27;distance&#x27;)</pre></div></div></div></div></div>"
      ],
      "text/plain": [
       "KNeighborsClassifier(weights='distance')"
      ]
     },
     "execution_count": 34,
     "metadata": {},
     "output_type": "execute_result"
    }
   ],
   "source": [
    "from sklearn.neighbors import KNeighborsClassifier\n",
    "\n",
    "neigh = KNeighborsClassifier(weights=\"distance\")\n",
    "neigh.fit(train_embeddings, train_labels)"
   ]
  },
  {
   "cell_type": "code",
   "execution_count": 35,
   "metadata": {
    "vscode": {
     "languageId": "python"
    }
   },
   "outputs": [
    {
     "data": {
      "application/vnd.jupyter.widget-view+json": {
       "model_id": "ffa2ab2955ea49938d929e265036996a",
       "version_major": 2,
       "version_minor": 0
      },
      "text/plain": [
       "  0%|          | 0/100 [00:00<?, ?ex/s]"
      ]
     },
     "metadata": {},
     "output_type": "display_data"
    },
    {
     "data": {
      "application/vnd.jupyter.widget-view+json": {
       "model_id": "c75cce0f1d024e5b9c80c5af32175b8b",
       "version_major": 2,
       "version_minor": 0
      },
      "text/plain": [
       "  0%|          | 0/100 [00:00<?, ?it/s]"
      ]
     },
     "metadata": {},
     "output_type": "display_data"
    }
   ],
   "source": [
    "test_num_examples = 100\n",
    "test_examples = dataset['test'].select(range(test_num_examples))\n",
    "\n",
    "test_embeddings, test_lables = get_embeddings(test_examples)"
   ]
  },
  {
   "cell_type": "code",
   "execution_count": 36,
   "metadata": {
    "vscode": {
     "languageId": "python"
    }
   },
   "outputs": [],
   "source": [
    "import matplotlib.pyplot as plt\n",
    "import evaluate\n",
    "\n",
    "acc_metric = evaluate.load(\"accuracy\")\n",
    "\n",
    "def evalute_knn(embeddings, references):\n",
    "    diff_setups = []\n",
    "    for n in range(1,30):\n",
    "        neigh.set_params(n_neighbors=n)\n",
    "        predictions = neigh.predict(embeddings)\n",
    "\n",
    "        diff_setups.append({'n': n, 'predictions': predictions})\n",
    "\n",
    "    scores = []\n",
    "    n_neighbours = []\n",
    "    for i, setup in enumerate(diff_setups):\n",
    "        metric = acc_metric.compute(predictions=setup['predictions'], references=test_lables)\n",
    "\n",
    "        score = metric['accuracy']\n",
    "        scores.append(score)\n",
    "        n_neighbours.append(i + 1)\n",
    "\n",
    "        print('n:', i + 1, 'acc:', score)\n",
    "\n",
    "    return n_neighbours, scores"
   ]
  },
  {
   "cell_type": "code",
   "execution_count": 37,
   "metadata": {
    "vscode": {
     "languageId": "python"
    }
   },
   "outputs": [
    {
     "name": "stdout",
     "output_type": "stream",
     "text": [
      "n: 1 acc: 0.09\n",
      "n: 2 acc: 0.09\n",
      "n: 3 acc: 0.09\n",
      "n: 4 acc: 0.09\n",
      "n: 5 acc: 0.1\n",
      "n: 6 acc: 0.11\n",
      "n: 7 acc: 0.12\n",
      "n: 8 acc: 0.11\n",
      "n: 9 acc: 0.11\n",
      "n: 10 acc: 0.12\n",
      "n: 11 acc: 0.13\n",
      "n: 12 acc: 0.12\n",
      "n: 13 acc: 0.12\n",
      "n: 14 acc: 0.14\n",
      "n: 15 acc: 0.11\n",
      "n: 16 acc: 0.12\n",
      "n: 17 acc: 0.12\n",
      "n: 18 acc: 0.11\n",
      "n: 19 acc: 0.11\n",
      "n: 20 acc: 0.12\n",
      "n: 21 acc: 0.12\n",
      "n: 22 acc: 0.13\n",
      "n: 23 acc: 0.11\n",
      "n: 24 acc: 0.11\n",
      "n: 25 acc: 0.09\n",
      "n: 26 acc: 0.09\n",
      "n: 27 acc: 0.09\n",
      "n: 28 acc: 0.11\n",
      "n: 29 acc: 0.11\n",
      "\n",
      "Training examples: 10000\n",
      "Test examples: 100\n"
     ]
    },
    {
     "data": {
      "image/png": "[encoded data removed]",
      "text/plain": [
       "<Figure size 432x288 with 1 Axes>"
      ]
     },
     "metadata": {
      "needs_background": "light"
     },
     "output_type": "display_data"
    }
   ],
   "source": [
    "n_neighbours, scores = evalute_knn(test_embeddings, test_lables)\n",
    "\n",
    "plt.plot(n_neighbours, scores)\n",
    "\n",
    "print()\n",
    "print('Training examples:', len(train_embeddings))\n",
    "print('Test examples:', len(test_embeddings))\n",
    "plt.show()"
   ]
  },
  {
   "cell_type": "code",
   "execution_count": 42,
   "metadata": {
    "vscode": {
     "languageId": "python"
    }
   },
   "outputs": [
    {
     "name": "stdout",
     "output_type": "stream",
     "text": [
      "n: 1 acc: 0.08\n",
      "n: 2 acc: 0.08\n",
      "n: 3 acc: 0.08\n",
      "n: 4 acc: 0.08\n",
      "n: 5 acc: 0.07\n",
      "n: 6 acc: 0.09\n",
      "n: 7 acc: 0.1\n",
      "n: 8 acc: 0.12\n",
      "n: 9 acc: 0.12\n",
      "n: 10 acc: 0.12\n",
      "n: 11 acc: 0.13\n",
      "n: 12 acc: 0.13\n",
      "n: 13 acc: 0.13\n",
      "n: 14 acc: 0.14\n",
      "n: 15 acc: 0.13\n",
      "n: 16 acc: 0.14\n",
      "n: 17 acc: 0.14\n",
      "n: 18 acc: 0.13\n",
      "n: 19 acc: 0.11\n",
      "n: 20 acc: 0.11\n",
      "n: 21 acc: 0.11\n",
      "n: 22 acc: 0.11\n",
      "n: 23 acc: 0.12\n",
      "n: 24 acc: 0.13\n",
      "n: 25 acc: 0.14\n",
      "n: 26 acc: 0.14\n",
      "n: 27 acc: 0.14\n",
      "n: 28 acc: 0.14\n",
      "n: 29 acc: 0.14\n",
      "\n",
      "Training examples: 20000\n",
      "Test examples: 100\n"
     ]
    },
    {
     "data": {
      "image/png": "[encoded data removed]",
      "text/plain": [
       "<Figure size 432x288 with 1 Axes>"
      ]
     },
     "metadata": {
      "needs_background": "light"
     },
     "output_type": "display_data"
    }
   ],
   "source": [
    "n_neighbours, scores = evalute_knn(test_embeddings, test_lables)\n",
    "\n",
    "plt.plot(n_neighbours, scores)\n",
    "\n",
    "print()\n",
    "print('Training examples:', len(train_embeddings))\n",
    "print('Test examples:', len(test_embeddings))\n",
    "plt.show()"
   ]
  },
  {
   "cell_type": "code",
   "execution_count": null,
   "metadata": {
    "vscode": {
     "languageId": "python"
    }
   },
   "outputs": [],
   "source": []
  }
 ],
 "metadata": {
  "kernelspec": {
   "display_name": "mount-venv",
   "language": "python",
   "name": "mount-venv"
  },
  "vscode": {
   "interpreter": {
    "hash": "29fa6e2f6b483c73741f762295f0b20abd4d37c3114673c02b7680f42a83ec63"
   }
  }
 },
 "nbformat": 4,
 "nbformat_minor": 2
}
