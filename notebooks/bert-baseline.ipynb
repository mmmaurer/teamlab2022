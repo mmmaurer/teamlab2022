{
 "cells": [
  {
   "cell_type": "markdown",
   "metadata": {},
   "source": [
    "# Artist classification using BERT\n",
    "This notebook uses a transformer-based model BERT on the task of artist classification.\n",
    "\n",
    "The motivation behind using this model is to utilize its context understanding and trained knowledge to fine-tune lyrics of different artist.\n",
    "\n",
    "We'll first use the pretrained model ito transform the lyrics into BERT vector embeddings and run a kNN algorithm over all the vector embeddings. Then we'll be fine-tuning the model on artist classification."
   ]
  },
  {
   "cell_type": "markdown",
   "metadata": {},
   "source": [
    "## Preparing the data"
   ]
  },
  {
   "cell_type": "code",
   "execution_count": 3,
   "metadata": {},
   "outputs": [],
   "source": [
    "filepath_train = \"../data/songs_train.txt\"\n",
    "\n",
    "read_limit = 10000\n",
    "\n",
    "artists, titles, lyrics = [], [], []\n",
    "with open(filepath_train, 'r') as f:\n",
    "    for i, line in enumerate(f.readlines()):\n",
    "        if i >= read_limit:\n",
    "            break\n",
    "\n",
    "        # The three values for each line are joined together with the\n",
    "        # tab '\\t' character\n",
    "        artist, title, lyric = line.split('\\t')\n",
    "\n",
    "        artists.append(artist)\n",
    "        titles.append(title)\n",
    "        lyrics.append(lyric)\n",
    "\n",
    "# Create numerical representations of labels for mapping\n",
    "label_to_num = {artist:i for i, artist in enumerate(set(artists))}\n",
    "num_to_label = {value:key for key, value in label_to_num.items()}"
   ]
  },
  {
   "cell_type": "code",
   "execution_count": 5,
   "metadata": {},
   "outputs": [],
   "source": [
    "from datasets import load_dataset"
   ]
  },
  {
   "cell_type": "code",
   "execution_count": null,
   "metadata": {},
   "outputs": [],
   "source": [
    ">>> dataset = load_dataset('csv', data_files={'train': ['my_train_file_1.csv', 'my_train_file_2.csv'],\n",
    "                                              'test': 'my_test_file.csv'})"
   ]
  },
  {
   "cell_type": "code",
   "execution_count": 12,
   "metadata": {},
   "outputs": [
    {
     "name": "stderr",
     "output_type": "stream",
     "text": [
      "Using custom data configuration default-60e82b46cad47bc3\n"
     ]
    },
    {
     "name": "stdout",
     "output_type": "stream",
     "text": [
      "Downloading and preparing dataset csv/default to /home/urbikn/.cache/huggingface/datasets/csv/default-60e82b46cad47bc3/0.0.0/51cce309a08df9c4d82ffd9363bbe090bf173197fc01a71b034e8594995a1a58...\n"
     ]
    },
    {
     "name": "stderr",
     "output_type": "stream",
     "text": [
      "Downloading data files: 100%|██████████| 1/1 [00:00<00:00, 3659.95it/s]\n",
      "Extracting data files: 100%|██████████| 1/1 [00:00<00:00, 893.55it/s]\n",
      "                                \r"
     ]
    },
    {
     "name": "stdout",
     "output_type": "stream",
     "text": [
      "Dataset csv downloaded and prepared to /home/urbikn/.cache/huggingface/datasets/csv/default-60e82b46cad47bc3/0.0.0/51cce309a08df9c4d82ffd9363bbe090bf173197fc01a71b034e8594995a1a58. Subsequent calls will reuse this data.\n"
     ]
    },
    {
     "name": "stderr",
     "output_type": "stream",
     "text": [
      "100%|██████████| 1/1 [00:00<00:00, 481.33it/s]\n"
     ]
    }
   ],
   "source": [
    "from pathlib import Path\n",
    "\n",
    "dataset_folder = Path('../data/')\n",
    "\n",
    "train = load_dataset('csv',\n",
    "                     data_files={\n",
    "                        'train': dataset_folder / 'songs_train.txt',\n",
    "                        'test': dataset_folder / 'songs_test.txt',\n",
    "                        'dev': dataset_folder / 'songs_dev.txt',\n",
    "                     },\n",
    "                     column_names=['artist', 'title', 'lyrics'],\n",
    "                     sep='\\t')"
   ]
  },
  {
   "cell_type": "code",
   "execution_count": 13,
   "metadata": {},
   "outputs": [
    {
     "data": {
      "text/plain": [
       "DatasetDict({\n",
       "    train: Dataset({\n",
       "        features: ['artist', 'title', 'lyrics'],\n",
       "        num_rows: 46120\n",
       "    })\n",
       "})"
      ]
     },
     "execution_count": 13,
     "metadata": {},
     "output_type": "execute_result"
    }
   ],
   "source": [
    "train"
   ]
  },
  {
   "cell_type": "code",
   "execution_count": null,
   "metadata": {},
   "outputs": [],
   "source": []
  }
 ],
 "metadata": {
  "interpreter": {
   "hash": "916dbcbb3f70747c44a77c7bcd40155683ae19c65e1c03b4aa3499c5328201f1"
  },
  "kernelspec": {
   "display_name": "Python 3.9.5 64-bit",
   "language": "python",
   "name": "python3"
  },
  "language_info": {
   "codemirror_mode": {
    "name": "ipython",
    "version": 3
   },
   "file_extension": ".py",
   "mimetype": "text/x-python",
   "name": "python",
   "nbconvert_exporter": "python",
   "pygments_lexer": "ipython3",
   "version": "3.9.5"
  },
  "orig_nbformat": 4
 },
 "nbformat": 4,
 "nbformat_minor": 2
}
