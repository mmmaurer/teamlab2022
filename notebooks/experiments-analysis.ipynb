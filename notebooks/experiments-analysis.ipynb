{
 "cells": [
  {
   "cell_type": "code",
   "execution_count": 1,
   "metadata": {},
   "outputs": [],
   "source": [
    "import pandas as pd"
   ]
  },
  {
   "cell_type": "code",
   "execution_count": 29,
   "metadata": {},
   "outputs": [],
   "source": [
    "colnames=['Models', 'Class size', 'train', 'test', 'F1', 'n']\n",
    "results = pd.read_csv('../results.csv', names=colnames, header=None)"
   ]
  },
  {
   "cell_type": "code",
   "execution_count": 30,
   "metadata": {},
   "outputs": [
    {
     "data": {
      "text/html": [
       "<div>\n",
       "<style scoped>\n",
       "    .dataframe tbody tr th:only-of-type {\n",
       "        vertical-align: middle;\n",
       "    }\n",
       "\n",
       "    .dataframe tbody tr th {\n",
       "        vertical-align: top;\n",
       "    }\n",
       "\n",
       "    .dataframe thead th {\n",
       "        text-align: right;\n",
       "    }\n",
       "</style>\n",
       "<table border=\"1\" class=\"dataframe\">\n",
       "  <thead>\n",
       "    <tr style=\"text-align: right;\">\n",
       "      <th></th>\n",
       "      <th>Models</th>\n",
       "      <th>Class size</th>\n",
       "      <th>train</th>\n",
       "      <th>test</th>\n",
       "      <th>F1</th>\n",
       "      <th>n</th>\n",
       "    </tr>\n",
       "  </thead>\n",
       "  <tbody>\n",
       "    <tr>\n",
       "      <th>0</th>\n",
       "      <td>bert</td>\n",
       "      <td>10</td>\n",
       "      <td>561</td>\n",
       "      <td>77</td>\n",
       "      <td>0.870130</td>\n",
       "      <td>0</td>\n",
       "    </tr>\n",
       "    <tr>\n",
       "      <th>1</th>\n",
       "      <td>bert</td>\n",
       "      <td>20</td>\n",
       "      <td>1310</td>\n",
       "      <td>162</td>\n",
       "      <td>0.629630</td>\n",
       "      <td>0</td>\n",
       "    </tr>\n",
       "    <tr>\n",
       "      <th>2</th>\n",
       "      <td>bert</td>\n",
       "      <td>50</td>\n",
       "      <td>3628</td>\n",
       "      <td>465</td>\n",
       "      <td>0.380645</td>\n",
       "      <td>0</td>\n",
       "    </tr>\n",
       "    <tr>\n",
       "      <th>3</th>\n",
       "      <td>bert</td>\n",
       "      <td>100</td>\n",
       "      <td>6776</td>\n",
       "      <td>837</td>\n",
       "      <td>0.218638</td>\n",
       "      <td>0</td>\n",
       "    </tr>\n",
       "    <tr>\n",
       "      <th>4</th>\n",
       "      <td>bert</td>\n",
       "      <td>200</td>\n",
       "      <td>13676</td>\n",
       "      <td>1656</td>\n",
       "      <td>0.180556</td>\n",
       "      <td>0</td>\n",
       "    </tr>\n",
       "    <tr>\n",
       "      <th>...</th>\n",
       "      <td>...</td>\n",
       "      <td>...</td>\n",
       "      <td>...</td>\n",
       "      <td>...</td>\n",
       "      <td>...</td>\n",
       "      <td>...</td>\n",
       "    </tr>\n",
       "    <tr>\n",
       "      <th>352</th>\n",
       "      <td>pre-bert-knn</td>\n",
       "      <td>642</td>\n",
       "      <td>46120</td>\n",
       "      <td>5764</td>\n",
       "      <td>0.086919</td>\n",
       "      <td>21</td>\n",
       "    </tr>\n",
       "    <tr>\n",
       "      <th>353</th>\n",
       "      <td>pre-bert-knn</td>\n",
       "      <td>642</td>\n",
       "      <td>46120</td>\n",
       "      <td>5764</td>\n",
       "      <td>0.087613</td>\n",
       "      <td>22</td>\n",
       "    </tr>\n",
       "    <tr>\n",
       "      <th>354</th>\n",
       "      <td>pre-bert-knn</td>\n",
       "      <td>642</td>\n",
       "      <td>46120</td>\n",
       "      <td>5764</td>\n",
       "      <td>0.087613</td>\n",
       "      <td>23</td>\n",
       "    </tr>\n",
       "    <tr>\n",
       "      <th>355</th>\n",
       "      <td>pre-bert-knn</td>\n",
       "      <td>642</td>\n",
       "      <td>46120</td>\n",
       "      <td>5764</td>\n",
       "      <td>0.086919</td>\n",
       "      <td>24</td>\n",
       "    </tr>\n",
       "    <tr>\n",
       "      <th>356</th>\n",
       "      <td>pre-bert-knn</td>\n",
       "      <td>642</td>\n",
       "      <td>46120</td>\n",
       "      <td>5764</td>\n",
       "      <td>0.087266</td>\n",
       "      <td>25</td>\n",
       "    </tr>\n",
       "  </tbody>\n",
       "</table>\n",
       "<p>357 rows × 6 columns</p>\n",
       "</div>"
      ],
      "text/plain": [
       "           Models  Class size  train  test        F1   n\n",
       "0            bert          10    561    77  0.870130   0\n",
       "1            bert          20   1310   162  0.629630   0\n",
       "2            bert          50   3628   465  0.380645   0\n",
       "3            bert         100   6776   837  0.218638   0\n",
       "4            bert         200  13676  1656  0.180556   0\n",
       "..            ...         ...    ...   ...       ...  ..\n",
       "352  pre-bert-knn         642  46120  5764  0.086919  21\n",
       "353  pre-bert-knn         642  46120  5764  0.087613  22\n",
       "354  pre-bert-knn         642  46120  5764  0.087613  23\n",
       "355  pre-bert-knn         642  46120  5764  0.086919  24\n",
       "356  pre-bert-knn         642  46120  5764  0.087266  25\n",
       "\n",
       "[357 rows x 6 columns]"
      ]
     },
     "execution_count": 30,
     "metadata": {},
     "output_type": "execute_result"
    }
   ],
   "source": [
    "results"
   ]
  },
  {
   "cell_type": "code",
   "execution_count": 31,
   "metadata": {},
   "outputs": [],
   "source": [
    "import pandas as pd\n",
    "import numpy as np\n",
    "import seaborn as sns\n",
    "import matplotlib\n",
    "import matplotlib.pyplot as plt\n",
    "\n",
    "%matplotlib inline"
   ]
  },
  {
   "cell_type": "code",
   "execution_count": 32,
   "metadata": {},
   "outputs": [],
   "source": [
    "sns.reset_defaults()\n",
    "sns.set(\n",
    "    rc={'figure.figsize':(7,5)}, \n",
    "    style=\"white\" # nicer layout\n",
    ")"
   ]
  },
  {
   "cell_type": "code",
   "execution_count": 33,
   "metadata": {},
   "outputs": [
    {
     "data": {
      "image/png": "[encoded data removed]",
      "text/plain": [
       "<Figure size 638.25x500 with 1 Axes>"
      ]
     },
     "metadata": {},
     "output_type": "display_data"
    }
   ],
   "source": [
    "sns.relplot(x=\"Class size\", y=\"F1\", hue=\"Models\", style=\"Models\", kind=\"line\", data=results);\n",
    "plt.show()"
   ]
  },
  {
   "cell_type": "code",
   "execution_count": 52,
   "metadata": {},
   "outputs": [
    {
     "data": {
      "text/plain": [
       "Models        Class size\n",
       "bert          10            0.870130\n",
       "              20            0.629630\n",
       "              50            0.380645\n",
       "              100           0.218638\n",
       "              200           0.180556\n",
       "              400           0.009832\n",
       "              643           0.072507\n",
       "bert-knn      10            0.614458\n",
       "              20            0.440476\n",
       "              50            0.279545\n",
       "              100           0.250290\n",
       "              200           0.174272\n",
       "              400           0.054936\n",
       "              643           0.103903\n",
       "pre-bert-knn  10            0.481132\n",
       "              20            0.454545\n",
       "              50            0.327731\n",
       "              100           0.223947\n",
       "              200           0.157402\n",
       "              400           0.115946\n",
       "              642           0.087613\n",
       "Name: F1, dtype: float64"
      ]
     },
     "execution_count": 52,
     "metadata": {},
     "output_type": "execute_result"
    }
   ],
   "source": [
    "groups = results.groupby(by=['Models', 'Class size'])\n",
    "groups['F1'].max()"
   ]
  },
  {
   "cell_type": "code",
   "execution_count": null,
   "metadata": {},
   "outputs": [],
   "source": []
  }
 ],
 "metadata": {
  "kernelspec": {
   "display_name": "teamlabs",
   "language": "python",
   "name": "teamlabs"
  },
  "language_info": {
   "codemirror_mode": {
    "name": "ipython",
    "version": 3
   },
   "file_extension": ".py",
   "mimetype": "text/x-python",
   "name": "python",
   "nbconvert_exporter": "python",
   "pygments_lexer": "ipython3",
   "version": "3.10.5"
  },
  "orig_nbformat": 4
 },
 "nbformat": 4,
 "nbformat_minor": 2
}
